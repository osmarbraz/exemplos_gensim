{
  "nbformat": 4,
  "nbformat_minor": 0,
  "metadata": {
    "colab": {
      "provenance": [],
      "toc_visible": true,
      "include_colab_link": true
    },
    "kernelspec": {
      "name": "python3",
      "display_name": "Python 3"
    }
  },
  "cells": [
    {
      "cell_type": "markdown",
      "metadata": {
        "id": "view-in-github",
        "colab_type": "text"
      },
      "source": [
        "<a href=\"https://colab.research.google.com/github/osmarbraz/exemplos_gensim/blob/master/Exemplo_Gensim_pt_br_NILC.ipynb\" target=\"_parent\"><img src=\"https://colab.research.google.com/assets/colab-badge.svg\" alt=\"Open In Colab\"/></a>"
      ]
    },
    {
      "cell_type": "markdown",
      "metadata": {
        "id": "IziPWVaeGlWk"
      },
      "source": [
        "# Exemplo Word Embedding(pt-br) usando Gensim e NILC(pt-br)\n",
        "\n",
        "Exemplo de embendding usando Gensim Python Library com execução através do Google Colaboratory.<br>\n",
        "É Biblioteca open-source para modelagem de tópicos não supervisionados e processamento de linguagem.\n",
        "Implementado em Python e Cython. \n",
        "Projetado para lidar com grandes volumes de texto, usando fluxo de dados e algoritmos on-line incrementais. \n",
        "Seu diferencial em relação a maioria dos outros software para aprendizado de máquina os quais visam apenas o processamento em memória.<br>\n",
        "\n",
        "http://nilc.icmc.usp.br/embeddings\n",
        "\n",
        "\n",
        "\n"
      ]
    },
    {
      "cell_type": "markdown",
      "metadata": {
        "id": "-FSWa6_L0GON"
      },
      "source": [
        "# Preparação do ambiente\n",
        "Preparação do ambiente para executar o gensim."
      ]
    },
    {
      "cell_type": "markdown",
      "metadata": {
        "id": "gE_YWR2yvfqk"
      },
      "source": [
        "##Tratamento de logs"
      ]
    },
    {
      "cell_type": "code",
      "metadata": {
        "id": "RR37-oPNvcSL"
      },
      "source": [
        "#Biblioteca de logging\n",
        "import logging\n",
        "\n",
        "#Formato da mensagem\n",
        "logging.basicConfig(format='%(asctime)s : %(levelname)s : %(message)s', level=logging.INFO)"
      ],
      "execution_count": 1,
      "outputs": []
    },
    {
      "cell_type": "markdown",
      "metadata": {
        "id": "RlZIDQO3Ax6w"
      },
      "source": [
        "## Parâmetros\n",
        "Parâmetros da execução do teste\n",
        "\n",
        "Nome dos modelos em http://nilc.icmc.usp.br/embeddings."
      ]
    },
    {
      "cell_type": "code",
      "metadata": {
        "id": "5IDnDVVBA27l"
      },
      "source": [
        "\n",
        "#Definição do nome do arquivo compactado do modelo\n",
        "arquivoModeloCompactado = 'cbow_s300.zip'\n",
        "\n",
        "#Definição do nome do arquivo do modelo\n",
        "arquivoModelo = 'cbow_s300.txt'\n",
        "\n",
        "logging.info('Parâmetros definidos!')"
      ],
      "execution_count": 2,
      "outputs": []
    },
    {
      "cell_type": "markdown",
      "metadata": {
        "id": "ZxFiqbpPQ-CR"
      },
      "source": [
        "## Instalação"
      ]
    },
    {
      "cell_type": "markdown",
      "metadata": {
        "id": "HdjN6H6t_L08"
      },
      "source": [
        "Instalando o gensim no Google Colaboratory.\n",
        "\n",
        "No Jupiter Notebook executar através \"Anaconda Prompt\".\n"
      ]
    },
    {
      "cell_type": "code",
      "metadata": {
        "id": "BGFVnIzQGrEH",
        "outputId": "e1b18e65-fbd8-4c1b-a0ae-4a40b7b207ef",
        "colab": {
          "base_uri": "https://localhost:8080/"
        }
      },
      "source": [
        "#!pip install -U gensim\n",
        "!pip install -U gensim==3.8.1"
      ],
      "execution_count": 3,
      "outputs": [
        {
          "output_type": "stream",
          "name": "stdout",
          "text": [
            "Looking in indexes: https://pypi.org/simple, https://us-python.pkg.dev/colab-wheels/public/simple/\n",
            "Collecting gensim==3.8.1\n",
            "  Downloading gensim-3.8.1-cp37-cp37m-manylinux1_x86_64.whl (24.2 MB)\n",
            "\u001b[K     |████████████████████████████████| 24.2 MB 1.4 MB/s \n",
            "\u001b[?25hRequirement already satisfied: six>=1.5.0 in /usr/local/lib/python3.7/dist-packages (from gensim==3.8.1) (1.15.0)\n",
            "Requirement already satisfied: smart-open>=1.8.1 in /usr/local/lib/python3.7/dist-packages (from gensim==3.8.1) (5.2.1)\n",
            "Requirement already satisfied: scipy>=0.18.1 in /usr/local/lib/python3.7/dist-packages (from gensim==3.8.1) (1.7.3)\n",
            "Requirement already satisfied: numpy>=1.11.3 in /usr/local/lib/python3.7/dist-packages (from gensim==3.8.1) (1.21.6)\n",
            "Installing collected packages: gensim\n",
            "  Attempting uninstall: gensim\n",
            "    Found existing installation: gensim 3.6.0\n",
            "    Uninstalling gensim-3.6.0:\n",
            "      Successfully uninstalled gensim-3.6.0\n",
            "Successfully installed gensim-3.8.1\n"
          ]
        }
      ]
    },
    {
      "cell_type": "markdown",
      "metadata": {
        "id": "6QCnOoFQQ2vC"
      },
      "source": [
        "## Bibliotecas"
      ]
    },
    {
      "cell_type": "markdown",
      "metadata": {
        "id": "T_dW1tLxwgSM"
      },
      "source": [
        "## Download\n",
        "Para usar o Gensim, você pode criar o seu vetor de palavras e treiná-lo ou utilizar um dataset previamente treinado.\n",
        "\n",
        "Neste apresentação utilizamos o dataset fornecido por Kyubyong Park, disponível em http://143.107.183.175:22980/download.php?file=embeddings/word2vec/cbow_s300.zip\n",
        "\n",
        "São dados da Wikipidia Brasileira com:<br>\n",
        "*   300 dimensões\n",
        "*   1G Corpus\n",
        "*   50246 vocabulário\n",
        "\n",
        "Outros modelos em  :\n",
        "http://nilc.icmc.usp.br/embeddings"
      ]
    },
    {
      "cell_type": "code",
      "source": [
        "# Realiza o download do arquivo do modelo para o diretório corrente\n",
        "!wget -O $arquivoModeloCompactado http://143.107.183.175:22980/download.php?file=embeddings/word2vec/$arquivoModeloCompactado "
      ],
      "metadata": {
        "colab": {
          "base_uri": "https://localhost:8080/"
        },
        "id": "b3ezweefSCdJ",
        "outputId": "52e3ea46-4796-465c-b931-19b1435b2f4c"
      },
      "execution_count": 4,
      "outputs": [
        {
          "output_type": "stream",
          "name": "stdout",
          "text": [
            "--2022-11-24 16:10:19--  http://143.107.183.175:22980/download.php?file=embeddings/word2vec/cbow_s300.zip\n",
            "Connecting to 143.107.183.175:22980... connected.\n",
            "HTTP request sent, awaiting response... 200 OK\n",
            "Length: 929305948 (886M) [application/octet-stream]\n",
            "Saving to: ‘cbow_s300.zip’\n",
            "\n",
            "cbow_s300.zip       100%[===================>] 886.25M  9.96MB/s    in 85s     \n",
            "\n",
            "2022-11-24 16:11:44 (10.4 MB/s) - ‘cbow_s300.zip’ saved [929305948/929305948]\n",
            "\n"
          ]
        }
      ]
    },
    {
      "cell_type": "markdown",
      "metadata": {
        "id": "Si8lVLtpNgoJ"
      },
      "source": [
        "Descompacta o arquivo do modelo."
      ]
    },
    {
      "cell_type": "code",
      "source": [
        "!unzip -o -j -q \"$arquivoModeloCompactado\" -d \".\"\n",
        "\n",
        "logging.info(\"Terminei a descompactação.\")"
      ],
      "metadata": {
        "id": "HmkLeNsNVnfv"
      },
      "execution_count": 5,
      "outputs": []
    },
    {
      "cell_type": "markdown",
      "metadata": {
        "id": "AYvmZSOvZXUm"
      },
      "source": [
        "Mostra o diretório corrente e seus arquivos."
      ]
    },
    {
      "cell_type": "code",
      "metadata": {
        "id": "0EtGSyDWXDxX",
        "outputId": "f2730f40-22b3-4b60-9969-a6c18d95bfd3",
        "colab": {
          "base_uri": "https://localhost:8080/"
        }
      },
      "source": [
        "!pwd\n",
        "!ls -la"
      ],
      "execution_count": 6,
      "outputs": [
        {
          "output_type": "stream",
          "name": "stdout",
          "text": [
            "/content\n",
            "total 3501348\n",
            "drwxr-xr-x 1 root root       4096 Nov 24 16:11 .\n",
            "drwxr-xr-x 1 root root       4096 Nov 24 16:09 ..\n",
            "-rw-r--r-- 1 root root 2656045531 Oct  4  2018 cbow_s300.txt\n",
            "-rw-r--r-- 1 root root  929305948 Nov 24 16:11 cbow_s300.zip\n",
            "drwxr-xr-x 4 root root       4096 Nov 22 00:13 .config\n",
            "drwxr-xr-x 1 root root       4096 Nov 22 00:14 sample_data\n"
          ]
        }
      ]
    },
    {
      "cell_type": "markdown",
      "metadata": {
        "id": "gbz-JcsZSARV"
      },
      "source": [
        "# Prepara o modelo\n",
        "Carrega as bibliotecas e modelo pré treinado para executar os exemplos."
      ]
    },
    {
      "cell_type": "markdown",
      "metadata": {
        "id": "yXRXXPxVOzci"
      },
      "source": [
        "##Importando as bibliotecas do Gensim\n",
        "Importa as biblitecas do Gensim para carregar o modelo pré treinado."
      ]
    },
    {
      "cell_type": "code",
      "metadata": {
        "id": "oN7EnHE8OzLj"
      },
      "source": [
        "from IPython.display import display, HTML\n",
        "from jinja2 import Template\n",
        "\n",
        "import warnings\n",
        "warnings.filterwarnings('ignore')\n",
        "\n",
        "import numpy as np  \n",
        "import gensim\n",
        "from gensim.models import Word2Vec\n",
        "from gensim.models import KeyedVectors\n",
        "\n",
        "logging.info('Import realizado!')"
      ],
      "execution_count": 7,
      "outputs": []
    },
    {
      "cell_type": "markdown",
      "metadata": {
        "id": "Ysl3AA3sPPJK"
      },
      "source": [
        "##Carregando o modelo"
      ]
    },
    {
      "cell_type": "code",
      "source": [
        "model = KeyedVectors.load_word2vec_format(arquivoModelo)\n",
        "logging.info('Modelo carregado!')"
      ],
      "metadata": {
        "id": "pTZxGvpwXP-s"
      },
      "execution_count": 8,
      "outputs": []
    },
    {
      "cell_type": "markdown",
      "metadata": {
        "id": "7SpWla9ZPcSs"
      },
      "source": [
        "Mostra alguns dados do modelo carregado para saber se ele foi carregado."
      ]
    },
    {
      "cell_type": "code",
      "metadata": {
        "id": "7fvMeXqkPB4Z",
        "outputId": "96a25617-a1cd-494b-fac8-de9b8fcacaa1",
        "colab": {
          "base_uri": "https://localhost:8080/"
        }
      },
      "source": [
        "print(model)"
      ],
      "execution_count": 9,
      "outputs": [
        {
          "output_type": "stream",
          "name": "stdout",
          "text": [
            "<gensim.models.keyedvectors.Word2VecKeyedVectors object at 0x7f840ba276d0>\n"
          ]
        }
      ]
    },
    {
      "cell_type": "markdown",
      "metadata": {
        "id": "fsTQ5rPvr0lt"
      },
      "source": [
        "Mostra os dados da palavra rei."
      ]
    },
    {
      "cell_type": "code",
      "metadata": {
        "id": "UPbz8n6Or34Y",
        "outputId": "2a408ef7-0f50-4585-be46-e642f5956564",
        "colab": {
          "base_uri": "https://localhost:8080/"
        }
      },
      "source": [
        "model.most_similar('rei')"
      ],
      "execution_count": 10,
      "outputs": [
        {
          "output_type": "execute_result",
          "data": {
            "text/plain": [
              "[('monarca', 0.7051045298576355),\n",
              " ('imperador', 0.6941140294075012),\n",
              " ('príncipe-herdeiro', 0.663498044013977),\n",
              " ('ex-rei', 0.6500978469848633),\n",
              " ('príncipe', 0.6440467834472656),\n",
              " ('príncipe-regente', 0.6145505905151367),\n",
              " ('faraó', 0.611543595790863),\n",
              " ('sacro-imperador', 0.6109637022018433),\n",
              " ('cardeal-rei', 0.6039718389511108),\n",
              " ('duque', 0.6022941470146179)]"
            ]
          },
          "metadata": {},
          "execution_count": 10
        }
      ]
    },
    {
      "cell_type": "markdown",
      "metadata": {
        "id": "6xlt_r14Qkyn"
      },
      "source": [
        "##Função de apresentação dos dados\n",
        "Função para melhorar a apresentação dos dados dos exemplos."
      ]
    },
    {
      "cell_type": "code",
      "metadata": {
        "id": "5iVDsYpYQiuW"
      },
      "source": [
        "table_list_template = \"\"\" \n",
        "<table> \n",
        "        <tr>  \n",
        "           <th>Palavra</th>   \n",
        "           <th>Similaridade</th>   \n",
        "        </tr>  \n",
        "        {% for item in items%}  \n",
        "        <TR>     \n",
        "           <TD class=\"c1\">{{item[0]}}</TD>     \n",
        "           <TD class=\"c2\">{{item[1]}}</TD>   \n",
        "        </TR>   \n",
        "        {% endfor %}\n",
        "</table> \n",
        "\"\"\"\n",
        "def most_similar(positive, negative):\n",
        "    nn = model.most_similar(positive=positive, negative=negative)\n",
        "    tmpl = Template(table_list_template)\n",
        "    output_html = tmpl.render(items=nn)\n",
        "    return HTML(output_html)\n",
        "\n",
        "logging.info('Função criada')"
      ],
      "execution_count": 11,
      "outputs": []
    },
    {
      "cell_type": "markdown",
      "metadata": {
        "id": "3ik0m91YSiwn"
      },
      "source": [
        "# Exemplos"
      ]
    },
    {
      "cell_type": "markdown",
      "metadata": {
        "id": "Pv3x2kEhXKOu"
      },
      "source": [
        "**DICA**:<br>\n",
        "Para palavras com sinais léxicos, utilizar o caractere \"**u**\" antes da mesma para codifica-la como utf-8.\n"
      ]
    },
    {
      "cell_type": "markdown",
      "metadata": {
        "id": "xbVbBUdJ-yki"
      },
      "source": [
        "## Comparando palavras diferentes"
      ]
    },
    {
      "cell_type": "markdown",
      "metadata": {
        "id": "BjXmJYYTXaoa"
      },
      "source": [
        "Rei + Mulher – Homem = ?"
      ]
    },
    {
      "cell_type": "code",
      "metadata": {
        "id": "gOiNNbclQyK9",
        "outputId": "62f02ff3-00b0-456f-a720-d27dd45dc0a2",
        "colab": {
          "base_uri": "https://localhost:8080/",
          "height": 254
        }
      },
      "source": [
        "most_similar(positive=['rei','mulher'], negative=['homem'])"
      ],
      "execution_count": 12,
      "outputs": [
        {
          "output_type": "execute_result",
          "data": {
            "text/plain": [
              "<IPython.core.display.HTML object>"
            ],
            "text/html": [
              " \n",
              "<table> \n",
              "        <tr>  \n",
              "           <th>Palavra</th>   \n",
              "           <th>Similaridade</th>   \n",
              "        </tr>  \n",
              "          \n",
              "        <TR>     \n",
              "           <TD class=\"c1\">esposa</TD>     \n",
              "           <TD class=\"c2\">0.5980843305587769</TD>   \n",
              "        </TR>   \n",
              "          \n",
              "        <TR>     \n",
              "           <TD class=\"c1\">sobrinha</TD>     \n",
              "           <TD class=\"c2\">0.5735378265380859</TD>   \n",
              "        </TR>   \n",
              "          \n",
              "        <TR>     \n",
              "           <TD class=\"c1\">meia-irmã</TD>     \n",
              "           <TD class=\"c2\">0.569114089012146</TD>   \n",
              "        </TR>   \n",
              "          \n",
              "        <TR>     \n",
              "           <TD class=\"c1\">filha</TD>     \n",
              "           <TD class=\"c2\">0.5606812238693237</TD>   \n",
              "        </TR>   \n",
              "          \n",
              "        <TR>     \n",
              "           <TD class=\"c1\">rainha</TD>     \n",
              "           <TD class=\"c2\">0.5509544610977173</TD>   \n",
              "        </TR>   \n",
              "          \n",
              "        <TR>     \n",
              "           <TD class=\"c1\">irmã</TD>     \n",
              "           <TD class=\"c2\">0.5464290976524353</TD>   \n",
              "        </TR>   \n",
              "          \n",
              "        <TR>     \n",
              "           <TD class=\"c1\">princesa</TD>     \n",
              "           <TD class=\"c2\">0.5403075814247131</TD>   \n",
              "        </TR>   \n",
              "          \n",
              "        <TR>     \n",
              "           <TD class=\"c1\">neta</TD>     \n",
              "           <TD class=\"c2\">0.5377060174942017</TD>   \n",
              "        </TR>   \n",
              "          \n",
              "        <TR>     \n",
              "           <TD class=\"c1\">mãe</TD>     \n",
              "           <TD class=\"c2\">0.5363210439682007</TD>   \n",
              "        </TR>   \n",
              "          \n",
              "        <TR>     \n",
              "           <TD class=\"c1\">madrasta</TD>     \n",
              "           <TD class=\"c2\">0.5213463306427002</TD>   \n",
              "        </TR>   \n",
              "        \n",
              "</table> "
            ]
          },
          "metadata": {},
          "execution_count": 12
        }
      ]
    },
    {
      "cell_type": "markdown",
      "metadata": {
        "id": "eSOaOjWOXjPo"
      },
      "source": [
        "Rainha + Homem – Mulher = ?"
      ]
    },
    {
      "cell_type": "code",
      "metadata": {
        "id": "-srA-OejXm-n",
        "outputId": "957526f4-5a2b-4e54-c9eb-15d46083a26e",
        "colab": {
          "base_uri": "https://localhost:8080/",
          "height": 254
        }
      },
      "source": [
        "most_similar(positive=[u'rainha',u'homem'], negative=[u'mulher'])"
      ],
      "execution_count": 13,
      "outputs": [
        {
          "output_type": "execute_result",
          "data": {
            "text/plain": [
              "<IPython.core.display.HTML object>"
            ],
            "text/html": [
              " \n",
              "<table> \n",
              "        <tr>  \n",
              "           <th>Palavra</th>   \n",
              "           <th>Similaridade</th>   \n",
              "        </tr>  \n",
              "          \n",
              "        <TR>     \n",
              "           <TD class=\"c1\">rei</TD>     \n",
              "           <TD class=\"c2\">0.5078852772712708</TD>   \n",
              "        </TR>   \n",
              "          \n",
              "        <TR>     \n",
              "           <TD class=\"c1\">epigrama</TD>     \n",
              "           <TD class=\"c2\">0.43968552350997925</TD>   \n",
              "        </TR>   \n",
              "          \n",
              "        <TR>     \n",
              "           <TD class=\"c1\">monarca</TD>     \n",
              "           <TD class=\"c2\">0.4394603967666626</TD>   \n",
              "        </TR>   \n",
              "          \n",
              "        <TR>     \n",
              "           <TD class=\"c1\">mito</TD>     \n",
              "           <TD class=\"c2\">0.4353425204753876</TD>   \n",
              "        </TR>   \n",
              "          \n",
              "        <TR>     \n",
              "           <TD class=\"c1\">demônio</TD>     \n",
              "           <TD class=\"c2\">0.42243558168411255</TD>   \n",
              "        </TR>   \n",
              "          \n",
              "        <TR>     \n",
              "           <TD class=\"c1\">mago</TD>     \n",
              "           <TD class=\"c2\">0.413475900888443</TD>   \n",
              "        </TR>   \n",
              "          \n",
              "        <TR>     \n",
              "           <TD class=\"c1\">homen</TD>     \n",
              "           <TD class=\"c2\">0.4116077423095703</TD>   \n",
              "        </TR>   \n",
              "          \n",
              "        <TR>     \n",
              "           <TD class=\"c1\">rapaz</TD>     \n",
              "           <TD class=\"c2\">0.410883367061615</TD>   \n",
              "        </TR>   \n",
              "          \n",
              "        <TR>     \n",
              "           <TD class=\"c1\">monstro</TD>     \n",
              "           <TD class=\"c2\">0.40994980931282043</TD>   \n",
              "        </TR>   \n",
              "          \n",
              "        <TR>     \n",
              "           <TD class=\"c1\">gênio</TD>     \n",
              "           <TD class=\"c2\">0.4092741012573242</TD>   \n",
              "        </TR>   \n",
              "        \n",
              "</table> "
            ]
          },
          "metadata": {},
          "execution_count": 13
        }
      ]
    },
    {
      "cell_type": "markdown",
      "metadata": {
        "id": "UqXKhIKJSsld"
      },
      "source": [
        "Brasil + Criminalidade = ?"
      ]
    },
    {
      "cell_type": "code",
      "metadata": {
        "id": "KjQ4Tw2xStdH",
        "outputId": "c1aa5b32-e7f6-4f06-8e11-2cb45d0ea694",
        "colab": {
          "base_uri": "https://localhost:8080/",
          "height": 254
        }
      },
      "source": [
        "most_similar(positive=['brasil',u'criminalidade'], negative=[])"
      ],
      "execution_count": 14,
      "outputs": [
        {
          "output_type": "execute_result",
          "data": {
            "text/plain": [
              "<IPython.core.display.HTML object>"
            ],
            "text/html": [
              " \n",
              "<table> \n",
              "        <tr>  \n",
              "           <th>Palavra</th>   \n",
              "           <th>Similaridade</th>   \n",
              "        </tr>  \n",
              "          \n",
              "        <TR>     \n",
              "           <TD class=\"c1\">romildão</TD>     \n",
              "           <TD class=\"c2\">0.5606801509857178</TD>   \n",
              "        </TR>   \n",
              "          \n",
              "        <TR>     \n",
              "           <TD class=\"c1\">japão</TD>     \n",
              "           <TD class=\"c2\">0.5581530928611755</TD>   \n",
              "        </TR>   \n",
              "          \n",
              "        <TR>     \n",
              "           <TD class=\"c1\">ocidente</TD>     \n",
              "           <TD class=\"c2\">0.5306658148765564</TD>   \n",
              "        </TR>   \n",
              "          \n",
              "        <TR>     \n",
              "           <TD class=\"c1\">emtanto</TD>     \n",
              "           <TD class=\"c2\">0.5266503095626831</TD>   \n",
              "        </TR>   \n",
              "          \n",
              "        <TR>     \n",
              "           <TD class=\"c1\">pradã£o</TD>     \n",
              "           <TD class=\"c2\">0.5266128778457642</TD>   \n",
              "        </TR>   \n",
              "          \n",
              "        <TR>     \n",
              "           <TD class=\"c1\">sesc-bosque</TD>     \n",
              "           <TD class=\"c2\">0.5166740417480469</TD>   \n",
              "        </TR>   \n",
              "          \n",
              "        <TR>     \n",
              "           <TD class=\"c1\">melville's</TD>     \n",
              "           <TD class=\"c2\">0.5136715173721313</TD>   \n",
              "        </TR>   \n",
              "          \n",
              "        <TR>     \n",
              "           <TD class=\"c1\">markkleeberg</TD>     \n",
              "           <TD class=\"c2\">0.5073782205581665</TD>   \n",
              "        </TR>   \n",
              "          \n",
              "        <TR>     \n",
              "           <TD class=\"c1\">eixo-x</TD>     \n",
              "           <TD class=\"c2\">0.5069652795791626</TD>   \n",
              "        </TR>   \n",
              "          \n",
              "        <TR>     \n",
              "           <TD class=\"c1\">romildã£o</TD>     \n",
              "           <TD class=\"c2\">0.506879448890686</TD>   \n",
              "        </TR>   \n",
              "        \n",
              "</table> "
            ]
          },
          "metadata": {},
          "execution_count": 14
        }
      ]
    },
    {
      "cell_type": "markdown",
      "metadata": {
        "id": "mDAZ8ZsWXxno"
      },
      "source": [
        "Outros exemplos:"
      ]
    },
    {
      "cell_type": "code",
      "metadata": {
        "id": "ibhqcCc1Xzv6",
        "outputId": "e83a57a5-666c-481a-fbe2-0cad4658ce7e",
        "colab": {
          "base_uri": "https://localhost:8080/",
          "height": 254
        }
      },
      "source": [
        "most_similar(positive=['presidente'], negative=['poder'])"
      ],
      "execution_count": 15,
      "outputs": [
        {
          "output_type": "execute_result",
          "data": {
            "text/plain": [
              "<IPython.core.display.HTML object>"
            ],
            "text/html": [
              " \n",
              "<table> \n",
              "        <tr>  \n",
              "           <th>Palavra</th>   \n",
              "           <th>Similaridade</th>   \n",
              "        </tr>  \n",
              "          \n",
              "        <TR>     \n",
              "           <TD class=\"c1\">vice-presidente</TD>     \n",
              "           <TD class=\"c2\">0.5089801549911499</TD>   \n",
              "        </TR>   \n",
              "          \n",
              "        <TR>     \n",
              "           <TD class=\"c1\">presi-dente</TD>     \n",
              "           <TD class=\"c2\">0.47608375549316406</TD>   \n",
              "        </TR>   \n",
              "          \n",
              "        <TR>     \n",
              "           <TD class=\"c1\">ex-presidente</TD>     \n",
              "           <TD class=\"c2\">0.4745274782180786</TD>   \n",
              "        </TR>   \n",
              "          \n",
              "        <TR>     \n",
              "           <TD class=\"c1\">presidenta</TD>     \n",
              "           <TD class=\"c2\">0.4283314347267151</TD>   \n",
              "        </TR>   \n",
              "          \n",
              "        <TR>     \n",
              "           <TD class=\"c1\">primeiro-secretário</TD>     \n",
              "           <TD class=\"c2\">0.39531469345092773</TD>   \n",
              "        </TR>   \n",
              "          \n",
              "        <TR>     \n",
              "           <TD class=\"c1\">diretor-presidente</TD>     \n",
              "           <TD class=\"c2\">0.37890052795410156</TD>   \n",
              "        </TR>   \n",
              "          \n",
              "        <TR>     \n",
              "           <TD class=\"c1\">diretor-geral</TD>     \n",
              "           <TD class=\"c2\">0.3661661148071289</TD>   \n",
              "        </TR>   \n",
              "          \n",
              "        <TR>     \n",
              "           <TD class=\"c1\">co-presidente</TD>     \n",
              "           <TD class=\"c2\">0.361783504486084</TD>   \n",
              "        </TR>   \n",
              "          \n",
              "        <TR>     \n",
              "           <TD class=\"c1\">comissá-rio</TD>     \n",
              "           <TD class=\"c2\">0.3568294644355774</TD>   \n",
              "        </TR>   \n",
              "          \n",
              "        <TR>     \n",
              "           <TD class=\"c1\">pre-sidente</TD>     \n",
              "           <TD class=\"c2\">0.35632336139678955</TD>   \n",
              "        </TR>   \n",
              "        \n",
              "</table> "
            ]
          },
          "metadata": {},
          "execution_count": 15
        }
      ]
    },
    {
      "cell_type": "code",
      "metadata": {
        "id": "DPcPNH25X8ph",
        "outputId": "6af80046-2f7a-408e-96ce-c96312dbe9ae",
        "colab": {
          "base_uri": "https://localhost:8080/",
          "height": 254
        }
      },
      "source": [
        "most_similar(positive=['brasil','estudo'], negative=['carnaval'])"
      ],
      "execution_count": 16,
      "outputs": [
        {
          "output_type": "execute_result",
          "data": {
            "text/plain": [
              "<IPython.core.display.HTML object>"
            ],
            "text/html": [
              " \n",
              "<table> \n",
              "        <tr>  \n",
              "           <th>Palavra</th>   \n",
              "           <th>Similaridade</th>   \n",
              "        </tr>  \n",
              "          \n",
              "        <TR>     \n",
              "           <TD class=\"c1\">haiti</TD>     \n",
              "           <TD class=\"c2\">0.4247499704360962</TD>   \n",
              "        </TR>   \n",
              "          \n",
              "        <TR>     \n",
              "           <TD class=\"c1\">dmsumm</TD>     \n",
              "           <TD class=\"c2\">0.4115537405014038</TD>   \n",
              "        </TR>   \n",
              "          \n",
              "        <TR>     \n",
              "           <TD class=\"c1\">estu-do</TD>     \n",
              "           <TD class=\"c2\">0.403529554605484</TD>   \n",
              "        </TR>   \n",
              "          \n",
              "        <TR>     \n",
              "           <TD class=\"c1\">documento-quadro</TD>     \n",
              "           <TD class=\"c2\">0.40114015340805054</TD>   \n",
              "        </TR>   \n",
              "          \n",
              "        <TR>     \n",
              "           <TD class=\"c1\">palamismo</TD>     \n",
              "           <TD class=\"c2\">0.3907535970211029</TD>   \n",
              "        </TR>   \n",
              "          \n",
              "        <TR>     \n",
              "           <TD class=\"c1\">experimento</TD>     \n",
              "           <TD class=\"c2\">0.38947948813438416</TD>   \n",
              "        </TR>   \n",
              "          \n",
              "        <TR>     \n",
              "           <TD class=\"c1\">ocidente</TD>     \n",
              "           <TD class=\"c2\">0.3839944005012512</TD>   \n",
              "        </TR>   \n",
              "          \n",
              "        <TR>     \n",
              "           <TD class=\"c1\">megaprocesso</TD>     \n",
              "           <TD class=\"c2\">0.3821256756782532</TD>   \n",
              "        </TR>   \n",
              "          \n",
              "        <TR>     \n",
              "           <TD class=\"c1\">melhoramento</TD>     \n",
              "           <TD class=\"c2\">0.3810884654521942</TD>   \n",
              "        </TR>   \n",
              "          \n",
              "        <TR>     \n",
              "           <TD class=\"c1\">mediter-râneo</TD>     \n",
              "           <TD class=\"c2\">0.380667120218277</TD>   \n",
              "        </TR>   \n",
              "        \n",
              "</table> "
            ]
          },
          "metadata": {},
          "execution_count": 16
        }
      ]
    },
    {
      "cell_type": "code",
      "metadata": {
        "id": "Ab_htKHBX-GS",
        "outputId": "9421ce71-f504-46bd-d899-d605cb01bade",
        "colab": {
          "base_uri": "https://localhost:8080/",
          "height": 254
        }
      },
      "source": [
        "most_similar(positive=['brasil','universidade'], negative=[])"
      ],
      "execution_count": 17,
      "outputs": [
        {
          "output_type": "execute_result",
          "data": {
            "text/plain": [
              "<IPython.core.display.HTML object>"
            ],
            "text/html": [
              " \n",
              "<table> \n",
              "        <tr>  \n",
              "           <th>Palavra</th>   \n",
              "           <th>Similaridade</th>   \n",
              "        </tr>  \n",
              "          \n",
              "        <TR>     \n",
              "           <TD class=\"c1\">japão</TD>     \n",
              "           <TD class=\"c2\">0.5480386018753052</TD>   \n",
              "        </TR>   \n",
              "          \n",
              "        <TR>     \n",
              "           <TD class=\"c1\">s.luiz</TD>     \n",
              "           <TD class=\"c2\">0.5061563849449158</TD>   \n",
              "        </TR>   \n",
              "          \n",
              "        <TR>     \n",
              "           <TD class=\"c1\">brasil.</TD>     \n",
              "           <TD class=\"c2\">0.5030791759490967</TD>   \n",
              "        </TR>   \n",
              "          \n",
              "        <TR>     \n",
              "           <TD class=\"c1\">lu-xemburgo</TD>     \n",
              "           <TD class=\"c2\">0.49644121527671814</TD>   \n",
              "        </TR>   \n",
              "          \n",
              "        <TR>     \n",
              "           <TD class=\"c1\">fancie's</TD>     \n",
              "           <TD class=\"c2\">0.49367067217826843</TD>   \n",
              "        </TR>   \n",
              "          \n",
              "        <TR>     \n",
              "           <TD class=\"c1\">рmbito</TD>     \n",
              "           <TD class=\"c2\">0.4910694658756256</TD>   \n",
              "        </TR>   \n",
              "          \n",
              "        <TR>     \n",
              "           <TD class=\"c1\">liceu</TD>     \n",
              "           <TD class=\"c2\">0.4909440279006958</TD>   \n",
              "        </TR>   \n",
              "          \n",
              "        <TR>     \n",
              "           <TD class=\"c1\">de-curso</TD>     \n",
              "           <TD class=\"c2\">0.48979490995407104</TD>   \n",
              "        </TR>   \n",
              "          \n",
              "        <TR>     \n",
              "           <TD class=\"c1\">romildão</TD>     \n",
              "           <TD class=\"c2\">0.4891167879104614</TD>   \n",
              "        </TR>   \n",
              "          \n",
              "        <TR>     \n",
              "           <TD class=\"c1\">m.i.t</TD>     \n",
              "           <TD class=\"c2\">0.4881156384944916</TD>   \n",
              "        </TR>   \n",
              "        \n",
              "</table> "
            ]
          },
          "metadata": {},
          "execution_count": 17
        }
      ]
    },
    {
      "cell_type": "code",
      "metadata": {
        "id": "O-JbOjb5X_x4",
        "outputId": "3e183183-83ac-4dbe-b219-922256aee750",
        "colab": {
          "base_uri": "https://localhost:8080/",
          "height": 254
        }
      },
      "source": [
        "most_similar(positive=[u'homem',u'máquina'], negative=[])"
      ],
      "execution_count": 18,
      "outputs": [
        {
          "output_type": "execute_result",
          "data": {
            "text/plain": [
              "<IPython.core.display.HTML object>"
            ],
            "text/html": [
              " \n",
              "<table> \n",
              "        <tr>  \n",
              "           <th>Palavra</th>   \n",
              "           <th>Similaridade</th>   \n",
              "        </tr>  \n",
              "          \n",
              "        <TR>     \n",
              "           <TD class=\"c1\">maquina</TD>     \n",
              "           <TD class=\"c2\">0.5467665195465088</TD>   \n",
              "        </TR>   \n",
              "          \n",
              "        <TR>     \n",
              "           <TD class=\"c1\">demônio</TD>     \n",
              "           <TD class=\"c2\">0.5251299738883972</TD>   \n",
              "        </TR>   \n",
              "          \n",
              "        <TR>     \n",
              "           <TD class=\"c1\">garoto</TD>     \n",
              "           <TD class=\"c2\">0.5249305367469788</TD>   \n",
              "        </TR>   \n",
              "          \n",
              "        <TR>     \n",
              "           <TD class=\"c1\">rapaz</TD>     \n",
              "           <TD class=\"c2\">0.5177508592605591</TD>   \n",
              "        </TR>   \n",
              "          \n",
              "        <TR>     \n",
              "           <TD class=\"c1\">rapazola</TD>     \n",
              "           <TD class=\"c2\">0.5176842212677002</TD>   \n",
              "        </TR>   \n",
              "          \n",
              "        <TR>     \n",
              "           <TD class=\"c1\">réprobo</TD>     \n",
              "           <TD class=\"c2\">0.5162155628204346</TD>   \n",
              "        </TR>   \n",
              "          \n",
              "        <TR>     \n",
              "           <TD class=\"c1\">trombadinha</TD>     \n",
              "           <TD class=\"c2\">0.5161904692649841</TD>   \n",
              "        </TR>   \n",
              "          \n",
              "        <TR>     \n",
              "           <TD class=\"c1\">demónio</TD>     \n",
              "           <TD class=\"c2\">0.5135754346847534</TD>   \n",
              "        </TR>   \n",
              "          \n",
              "        <TR>     \n",
              "           <TD class=\"c1\">ladrão</TD>     \n",
              "           <TD class=\"c2\">0.5064061284065247</TD>   \n",
              "        </TR>   \n",
              "          \n",
              "        <TR>     \n",
              "           <TD class=\"c1\">aeromodelo</TD>     \n",
              "           <TD class=\"c2\">0.5057721138000488</TD>   \n",
              "        </TR>   \n",
              "        \n",
              "</table> "
            ]
          },
          "metadata": {},
          "execution_count": 18
        }
      ]
    },
    {
      "cell_type": "code",
      "metadata": {
        "id": "0oQPhGYNYB0Z",
        "outputId": "c7b1b198-01ef-4162-cd0f-0d497c7c0f51",
        "colab": {
          "base_uri": "https://localhost:8080/",
          "height": 254
        }
      },
      "source": [
        "most_similar(positive=[u'palio',u'vw'], negative=[u'fiat'])"
      ],
      "execution_count": 19,
      "outputs": [
        {
          "output_type": "execute_result",
          "data": {
            "text/plain": [
              "<IPython.core.display.HTML object>"
            ],
            "text/html": [
              " \n",
              "<table> \n",
              "        <tr>  \n",
              "           <th>Palavra</th>   \n",
              "           <th>Similaridade</th>   \n",
              "        </tr>  \n",
              "          \n",
              "        <TR>     \n",
              "           <TD class=\"c1\">fiorino</TD>     \n",
              "           <TD class=\"c2\">0.45830926299095154</TD>   \n",
              "        </TR>   \n",
              "          \n",
              "        <TR>     \n",
              "           <TD class=\"c1\">uno</TD>     \n",
              "           <TD class=\"c2\">0.45438170433044434</TD>   \n",
              "        </TR>   \n",
              "          \n",
              "        <TR>     \n",
              "           <TD class=\"c1\">hb00</TD>     \n",
              "           <TD class=\"c2\">0.42453569173812866</TD>   \n",
              "        </TR>   \n",
              "          \n",
              "        <TR>     \n",
              "           <TD class=\"c1\">doblò</TD>     \n",
              "           <TD class=\"c2\">0.4176793098449707</TD>   \n",
              "        </TR>   \n",
              "          \n",
              "        <TR>     \n",
              "           <TD class=\"c1\">ducato</TD>     \n",
              "           <TD class=\"c2\">0.40537846088409424</TD>   \n",
              "        </TR>   \n",
              "          \n",
              "        <TR>     \n",
              "           <TD class=\"c1\">punto</TD>     \n",
              "           <TD class=\"c2\">0.3872108459472656</TD>   \n",
              "        </TR>   \n",
              "          \n",
              "        <TR>     \n",
              "           <TD class=\"c1\">croma</TD>     \n",
              "           <TD class=\"c2\">0.38625824451446533</TD>   \n",
              "        </TR>   \n",
              "          \n",
              "        <TR>     \n",
              "           <TD class=\"c1\">volkswagen</TD>     \n",
              "           <TD class=\"c2\">0.38463282585144043</TD>   \n",
              "        </TR>   \n",
              "          \n",
              "        <TR>     \n",
              "           <TD class=\"c1\">mobi</TD>     \n",
              "           <TD class=\"c2\">0.38212788105010986</TD>   \n",
              "        </TR>   \n",
              "          \n",
              "        <TR>     \n",
              "           <TD class=\"c1\">escort</TD>     \n",
              "           <TD class=\"c2\">0.3818145990371704</TD>   \n",
              "        </TR>   \n",
              "        \n",
              "</table> "
            ]
          },
          "metadata": {},
          "execution_count": 19
        }
      ]
    },
    {
      "cell_type": "code",
      "metadata": {
        "id": "tyBdekREYcjh",
        "outputId": "70a91e78-f2c2-4387-fa75-d0dd19b57de9",
        "colab": {
          "base_uri": "https://localhost:8080/",
          "height": 254
        }
      },
      "source": [
        "most_similar(positive=[u'roma',u'alemanha'], negative=[u'itália'])"
      ],
      "execution_count": 20,
      "outputs": [
        {
          "output_type": "execute_result",
          "data": {
            "text/plain": [
              "<IPython.core.display.HTML object>"
            ],
            "text/html": [
              " \n",
              "<table> \n",
              "        <tr>  \n",
              "           <th>Palavra</th>   \n",
              "           <th>Similaridade</th>   \n",
              "        </tr>  \n",
              "          \n",
              "        <TR>     \n",
              "           <TD class=\"c1\">jerusalém</TD>     \n",
              "           <TD class=\"c2\">0.51436847448349</TD>   \n",
              "        </TR>   \n",
              "          \n",
              "        <TR>     \n",
              "           <TD class=\"c1\">florença</TD>     \n",
              "           <TD class=\"c2\">0.4793848991394043</TD>   \n",
              "        </TR>   \n",
              "          \n",
              "        <TR>     \n",
              "           <TD class=\"c1\">eichstätt</TD>     \n",
              "           <TD class=\"c2\">0.4690265953540802</TD>   \n",
              "        </TR>   \n",
              "          \n",
              "        <TR>     \n",
              "           <TD class=\"c1\">nuremberga</TD>     \n",
              "           <TD class=\"c2\">0.4689272940158844</TD>   \n",
              "        </TR>   \n",
              "          \n",
              "        <TR>     \n",
              "           <TD class=\"c1\">amsterdã</TD>     \n",
              "           <TD class=\"c2\">0.4626407027244568</TD>   \n",
              "        </TR>   \n",
              "          \n",
              "        <TR>     \n",
              "           <TD class=\"c1\">berlim</TD>     \n",
              "           <TD class=\"c2\">0.4599156081676483</TD>   \n",
              "        </TR>   \n",
              "          \n",
              "        <TR>     \n",
              "           <TD class=\"c1\">montecassino</TD>     \n",
              "           <TD class=\"c2\">0.45623740553855896</TD>   \n",
              "        </TR>   \n",
              "          \n",
              "        <TR>     \n",
              "           <TD class=\"c1\">atenas</TD>     \n",
              "           <TD class=\"c2\">0.45602965354919434</TD>   \n",
              "        </TR>   \n",
              "          \n",
              "        <TR>     \n",
              "           <TD class=\"c1\">prenzlau</TD>     \n",
              "           <TD class=\"c2\">0.45584172010421753</TD>   \n",
              "        </TR>   \n",
              "          \n",
              "        <TR>     \n",
              "           <TD class=\"c1\">königsberg</TD>     \n",
              "           <TD class=\"c2\">0.44187259674072266</TD>   \n",
              "        </TR>   \n",
              "        \n",
              "</table> "
            ]
          },
          "metadata": {},
          "execution_count": 20
        }
      ]
    },
    {
      "cell_type": "code",
      "metadata": {
        "id": "HBZT91MNYe3a",
        "outputId": "becc061b-d8a4-479b-f25f-3c2f58a3abc1",
        "colab": {
          "base_uri": "https://localhost:8080/",
          "height": 254
        }
      },
      "source": [
        "most_similar(positive=[u'lendo',u'jogado'], negative=[u'lido'])"
      ],
      "execution_count": 21,
      "outputs": [
        {
          "output_type": "execute_result",
          "data": {
            "text/plain": [
              "<IPython.core.display.HTML object>"
            ],
            "text/html": [
              " \n",
              "<table> \n",
              "        <tr>  \n",
              "           <th>Palavra</th>   \n",
              "           <th>Similaridade</th>   \n",
              "        </tr>  \n",
              "          \n",
              "        <TR>     \n",
              "           <TD class=\"c1\">jogando</TD>     \n",
              "           <TD class=\"c2\">0.5391992330551147</TD>   \n",
              "        </TR>   \n",
              "          \n",
              "        <TR>     \n",
              "           <TD class=\"c1\">descansando</TD>     \n",
              "           <TD class=\"c2\">0.4768054783344269</TD>   \n",
              "        </TR>   \n",
              "          \n",
              "        <TR>     \n",
              "           <TD class=\"c1\">perseguindo</TD>     \n",
              "           <TD class=\"c2\">0.4647257924079895</TD>   \n",
              "        </TR>   \n",
              "          \n",
              "        <TR>     \n",
              "           <TD class=\"c1\">dormindo</TD>     \n",
              "           <TD class=\"c2\">0.4628775119781494</TD>   \n",
              "        </TR>   \n",
              "          \n",
              "        <TR>     \n",
              "           <TD class=\"c1\">roubando</TD>     \n",
              "           <TD class=\"c2\">0.44974321126937866</TD>   \n",
              "        </TR>   \n",
              "          \n",
              "        <TR>     \n",
              "           <TD class=\"c1\">empurrando</TD>     \n",
              "           <TD class=\"c2\">0.4411602020263672</TD>   \n",
              "        </TR>   \n",
              "          \n",
              "        <TR>     \n",
              "           <TD class=\"c1\">bisbilhotando</TD>     \n",
              "           <TD class=\"c2\">0.427745521068573</TD>   \n",
              "        </TR>   \n",
              "          \n",
              "        <TR>     \n",
              "           <TD class=\"c1\">polindo</TD>     \n",
              "           <TD class=\"c2\">0.42519015073776245</TD>   \n",
              "        </TR>   \n",
              "          \n",
              "        <TR>     \n",
              "           <TD class=\"c1\">pisando</TD>     \n",
              "           <TD class=\"c2\">0.4222061038017273</TD>   \n",
              "        </TR>   \n",
              "          \n",
              "        <TR>     \n",
              "           <TD class=\"c1\">redecorando</TD>     \n",
              "           <TD class=\"c2\">0.4153454899787903</TD>   \n",
              "        </TR>   \n",
              "        \n",
              "</table> "
            ]
          },
          "metadata": {},
          "execution_count": 21
        }
      ]
    },
    {
      "cell_type": "code",
      "metadata": {
        "id": "cdIriXbMYhyx",
        "outputId": "018a420d-05fb-43da-fbb4-b305f22ecb29",
        "colab": {
          "base_uri": "https://localhost:8080/",
          "height": 254
        }
      },
      "source": [
        "most_similar(positive=[u'nuvens',u'estrela'], negative=[u'nuvem'])"
      ],
      "execution_count": 22,
      "outputs": [
        {
          "output_type": "execute_result",
          "data": {
            "text/plain": [
              "<IPython.core.display.HTML object>"
            ],
            "text/html": [
              " \n",
              "<table> \n",
              "        <tr>  \n",
              "           <th>Palavra</th>   \n",
              "           <th>Similaridade</th>   \n",
              "        </tr>  \n",
              "          \n",
              "        <TR>     \n",
              "           <TD class=\"c1\">estrelas</TD>     \n",
              "           <TD class=\"c2\">0.5497429966926575</TD>   \n",
              "        </TR>   \n",
              "          \n",
              "        <TR>     \n",
              "           <TD class=\"c1\">plêiades</TD>     \n",
              "           <TD class=\"c2\">0.379197895526886</TD>   \n",
              "        </TR>   \n",
              "          \n",
              "        <TR>     \n",
              "           <TD class=\"c1\">colinas</TD>     \n",
              "           <TD class=\"c2\">0.3746805191040039</TD>   \n",
              "        </TR>   \n",
              "          \n",
              "        <TR>     \n",
              "           <TD class=\"c1\">trovoadas</TD>     \n",
              "           <TD class=\"c2\">0.373703271150589</TD>   \n",
              "        </TR>   \n",
              "          \n",
              "        <TR>     \n",
              "           <TD class=\"c1\">sombras</TD>     \n",
              "           <TD class=\"c2\">0.3734194040298462</TD>   \n",
              "        </TR>   \n",
              "          \n",
              "        <TR>     \n",
              "           <TD class=\"c1\">pombas</TD>     \n",
              "           <TD class=\"c2\">0.3726757764816284</TD>   \n",
              "        </TR>   \n",
              "          \n",
              "        <TR>     \n",
              "           <TD class=\"c1\">corredoras</TD>     \n",
              "           <TD class=\"c2\">0.3640727698802948</TD>   \n",
              "        </TR>   \n",
              "          \n",
              "        <TR>     \n",
              "           <TD class=\"c1\">cigarras</TD>     \n",
              "           <TD class=\"c2\">0.36065393686294556</TD>   \n",
              "        </TR>   \n",
              "          \n",
              "        <TR>     \n",
              "           <TD class=\"c1\">galáxias</TD>     \n",
              "           <TD class=\"c2\">0.35754913091659546</TD>   \n",
              "        </TR>   \n",
              "          \n",
              "        <TR>     \n",
              "           <TD class=\"c1\">luas</TD>     \n",
              "           <TD class=\"c2\">0.3575345277786255</TD>   \n",
              "        </TR>   \n",
              "        \n",
              "</table> "
            ]
          },
          "metadata": {},
          "execution_count": 22
        }
      ]
    },
    {
      "cell_type": "code",
      "metadata": {
        "id": "PMnZabliYjJh",
        "outputId": "9ec7d324-c245-45cf-8a20-edcd93c9b55b",
        "colab": {
          "base_uri": "https://localhost:8080/",
          "height": 254
        }
      },
      "source": [
        "most_similar(positive=[u'tenista',u'futebol'], negative=[u'tênis'])"
      ],
      "execution_count": 23,
      "outputs": [
        {
          "output_type": "execute_result",
          "data": {
            "text/plain": [
              "<IPython.core.display.HTML object>"
            ],
            "text/html": [
              " \n",
              "<table> \n",
              "        <tr>  \n",
              "           <th>Palavra</th>   \n",
              "           <th>Similaridade</th>   \n",
              "        </tr>  \n",
              "          \n",
              "        <TR>     \n",
              "           <TD class=\"c1\">ciclista</TD>     \n",
              "           <TD class=\"c2\">0.6033629179000854</TD>   \n",
              "        </TR>   \n",
              "          \n",
              "        <TR>     \n",
              "           <TD class=\"c1\">ex-tenista</TD>     \n",
              "           <TD class=\"c2\">0.5473562479019165</TD>   \n",
              "        </TR>   \n",
              "          \n",
              "        <TR>     \n",
              "           <TD class=\"c1\">golfista</TD>     \n",
              "           <TD class=\"c2\">0.5451231598854065</TD>   \n",
              "        </TR>   \n",
              "          \n",
              "        <TR>     \n",
              "           <TD class=\"c1\">basquetebolista</TD>     \n",
              "           <TD class=\"c2\">0.5346209406852722</TD>   \n",
              "        </TR>   \n",
              "          \n",
              "        <TR>     \n",
              "           <TD class=\"c1\">judoca</TD>     \n",
              "           <TD class=\"c2\">0.522477388381958</TD>   \n",
              "        </TR>   \n",
              "          \n",
              "        <TR>     \n",
              "           <TD class=\"c1\">futebolista</TD>     \n",
              "           <TD class=\"c2\">0.513012707233429</TD>   \n",
              "        </TR>   \n",
              "          \n",
              "        <TR>     \n",
              "           <TD class=\"c1\">naturalizado</TD>     \n",
              "           <TD class=\"c2\">0.5003874897956848</TD>   \n",
              "        </TR>   \n",
              "          \n",
              "        <TR>     \n",
              "           <TD class=\"c1\">ex-ciclista</TD>     \n",
              "           <TD class=\"c2\">0.4770185351371765</TD>   \n",
              "        </TR>   \n",
              "          \n",
              "        <TR>     \n",
              "           <TD class=\"c1\">canoísta</TD>     \n",
              "           <TD class=\"c2\">0.47275108098983765</TD>   \n",
              "        </TR>   \n",
              "          \n",
              "        <TR>     \n",
              "           <TD class=\"c1\">velejador</TD>     \n",
              "           <TD class=\"c2\">0.47246378660202026</TD>   \n",
              "        </TR>   \n",
              "        \n",
              "</table> "
            ]
          },
          "metadata": {},
          "execution_count": 23
        }
      ]
    },
    {
      "cell_type": "code",
      "metadata": {
        "id": "9fC6i2d8YlCx",
        "outputId": "25df6890-1d8d-460a-9afb-eb099bb4b894",
        "colab": {
          "base_uri": "https://localhost:8080/",
          "height": 254
        }
      },
      "source": [
        "most_similar(positive=[u'tenista',u'xadrez'], negative=[u'tênis'])\t"
      ],
      "execution_count": 24,
      "outputs": [
        {
          "output_type": "execute_result",
          "data": {
            "text/plain": [
              "<IPython.core.display.HTML object>"
            ],
            "text/html": [
              " \n",
              "<table> \n",
              "        <tr>  \n",
              "           <th>Palavra</th>   \n",
              "           <th>Similaridade</th>   \n",
              "        </tr>  \n",
              "          \n",
              "        <TR>     \n",
              "           <TD class=\"c1\">ciclista</TD>     \n",
              "           <TD class=\"c2\">0.49740028381347656</TD>   \n",
              "        </TR>   \n",
              "          \n",
              "        <TR>     \n",
              "           <TD class=\"c1\">golfista</TD>     \n",
              "           <TD class=\"c2\">0.47812965512275696</TD>   \n",
              "        </TR>   \n",
              "          \n",
              "        <TR>     \n",
              "           <TD class=\"c1\">judoca</TD>     \n",
              "           <TD class=\"c2\">0.47449177503585815</TD>   \n",
              "        </TR>   \n",
              "          \n",
              "        <TR>     \n",
              "           <TD class=\"c1\">enxadrista</TD>     \n",
              "           <TD class=\"c2\">0.4301517605781555</TD>   \n",
              "        </TR>   \n",
              "          \n",
              "        <TR>     \n",
              "           <TD class=\"c1\">canoísta</TD>     \n",
              "           <TD class=\"c2\">0.4274108409881592</TD>   \n",
              "        </TR>   \n",
              "          \n",
              "        <TR>     \n",
              "           <TD class=\"c1\">atleta</TD>     \n",
              "           <TD class=\"c2\">0.4134063422679901</TD>   \n",
              "        </TR>   \n",
              "          \n",
              "        <TR>     \n",
              "           <TD class=\"c1\">velejador</TD>     \n",
              "           <TD class=\"c2\">0.4117974638938904</TD>   \n",
              "        </TR>   \n",
              "          \n",
              "        <TR>     \n",
              "           <TD class=\"c1\">maratonista</TD>     \n",
              "           <TD class=\"c2\">0.4111607074737549</TD>   \n",
              "        </TR>   \n",
              "          \n",
              "        <TR>     \n",
              "           <TD class=\"c1\">ex-tenista</TD>     \n",
              "           <TD class=\"c2\">0.4102421700954437</TD>   \n",
              "        </TR>   \n",
              "          \n",
              "        <TR>     \n",
              "           <TD class=\"c1\">velocista</TD>     \n",
              "           <TD class=\"c2\">0.4084324836730957</TD>   \n",
              "        </TR>   \n",
              "        \n",
              "</table> "
            ]
          },
          "metadata": {},
          "execution_count": 24
        }
      ]
    },
    {
      "cell_type": "markdown",
      "metadata": {
        "id": "e1uz3qIc-59h"
      },
      "source": [
        "## Comparando palavras iguais"
      ]
    },
    {
      "cell_type": "markdown",
      "metadata": {
        "id": "omnupN8KDc1L"
      },
      "source": [
        "Frase de exemplo"
      ]
    },
    {
      "cell_type": "code",
      "metadata": {
        "id": "8FEGlAMwjuQy"
      },
      "source": [
        "texto = \"Depois de roubar o cofre do banco,\"\\\n",
        "        \" o ladrão de banco foi visto \" \\\n",
        "        \"sentado no banco da praça central.\"\n",
        "\n",
        "logging.info('Texto armazenado!')"
      ],
      "execution_count": 25,
      "outputs": []
    },
    {
      "cell_type": "code",
      "metadata": {
        "id": "DedqTrpZEE6K",
        "outputId": "b58a6023-e309-4721-ee1b-d0536602d592",
        "colab": {
          "base_uri": "https://localhost:8080/"
        }
      },
      "source": [
        "palavras = [texto.split()]\n",
        "print(palavras)"
      ],
      "execution_count": 26,
      "outputs": [
        {
          "output_type": "stream",
          "name": "stdout",
          "text": [
            "[['Depois', 'de', 'roubar', 'o', 'cofre', 'do', 'banco,', 'o', 'ladrão', 'de', 'banco', 'foi', 'visto', 'sentado', 'no', 'banco', 'da', 'praça', 'central.']]\n"
          ]
        }
      ]
    },
    {
      "cell_type": "markdown",
      "metadata": {
        "id": "zH5mCyBRE9dw"
      },
      "source": [
        "Carrega o vocabulário do modelo somente com as palavras dos texto"
      ]
    },
    {
      "cell_type": "code",
      "metadata": {
        "id": "egfirQz2_2WL",
        "outputId": "38e090a4-cdf4-4c75-8728-38154b67b7d8",
        "colab": {
          "base_uri": "https://localhost:8080/"
        }
      },
      "source": [
        "model1 = Word2Vec(palavras, min_count=1)\n",
        "\n",
        "print(model1)"
      ],
      "execution_count": 27,
      "outputs": [
        {
          "output_type": "stream",
          "name": "stderr",
          "text": [
            "WARNING:gensim.models.base_any2vec:under 10 jobs per worker: consider setting a smaller `batch_words' for smoother alpha decay\n"
          ]
        },
        {
          "output_type": "stream",
          "name": "stdout",
          "text": [
            "Word2Vec(vocab=16, size=100, alpha=0.025)\n"
          ]
        }
      ]
    },
    {
      "cell_type": "markdown",
      "metadata": {
        "id": "3A3rrIdCDsKy"
      },
      "source": [
        "Imprime o vocabulário."
      ]
    },
    {
      "cell_type": "code",
      "metadata": {
        "id": "ix_z_BvcDoKa",
        "outputId": "86ad6f6f-409f-4709-b78c-8737b007022c",
        "colab": {
          "base_uri": "https://localhost:8080/"
        }
      },
      "source": [
        "words = list(model1.wv.vocab)\n",
        "i = 0\n",
        "for token in words:\n",
        "   print(i, token)\n",
        "   i = i + 1"
      ],
      "execution_count": 28,
      "outputs": [
        {
          "output_type": "stream",
          "name": "stdout",
          "text": [
            "0 Depois\n",
            "1 de\n",
            "2 roubar\n",
            "3 o\n",
            "4 cofre\n",
            "5 do\n",
            "6 banco,\n",
            "7 ladrão\n",
            "8 banco\n",
            "9 foi\n",
            "10 visto\n",
            "11 sentado\n",
            "12 no\n",
            "13 da\n",
            "14 praça\n",
            "15 central.\n"
          ]
        }
      ]
    },
    {
      "cell_type": "markdown",
      "metadata": {
        "id": "3YvDvMpmC6m6"
      },
      "source": [
        "A palavra banco possui somente uma entrada no modelo somente um conjunto de pesos."
      ]
    },
    {
      "cell_type": "code",
      "metadata": {
        "id": "aOJ0KuMlB7Kl",
        "outputId": "ded69207-66b9-43ff-814f-1e9a44fee78c",
        "colab": {
          "base_uri": "https://localhost:8080/"
        }
      },
      "source": [
        "print(model1['banco'])"
      ],
      "execution_count": 29,
      "outputs": [
        {
          "output_type": "stream",
          "name": "stdout",
          "text": [
            "[ 3.25359963e-03 -4.86859726e-03 -2.92567490e-03  1.76069210e-03\n",
            " -1.37138867e-03 -1.57461187e-03 -2.31146184e-03 -4.93300287e-03\n",
            " -4.22948692e-03  4.37001744e-03  3.84283718e-03  2.30299961e-03\n",
            "  4.62942902e-04  4.41116979e-03  2.30099284e-03  4.78144642e-03\n",
            " -4.50822583e-04  4.67667868e-03  4.21139924e-03 -4.32990964e-05\n",
            " -3.81652219e-03  4.77001630e-03 -3.92756367e-04 -4.49122908e-03\n",
            " -3.08144116e-03 -4.59068734e-03 -1.56292517e-03  5.99743325e-05\n",
            " -1.32819568e-03  1.55033136e-03 -4.71906550e-03 -3.76741518e-03\n",
            " -3.01435543e-03 -4.81817733e-05  3.36168008e-03 -1.41841650e-03\n",
            "  1.74603250e-03 -2.86820601e-03  4.57657268e-04  4.32852749e-03\n",
            "  1.37844193e-03  1.98784401e-03  3.61376209e-03  2.85308599e-03\n",
            " -7.81862589e-04 -3.19188205e-03  1.83628802e-03 -3.77510046e-03\n",
            " -2.06908793e-03  3.42536648e-03 -7.80016300e-04  3.22483759e-03\n",
            "  8.44241935e-04  3.92624270e-03  3.37853958e-03 -1.58080063e-03\n",
            "  3.37531860e-03  2.69317185e-04  4.61358204e-03 -7.72478001e-04\n",
            " -4.86088730e-03 -4.10365313e-03  5.67522111e-05  1.10076356e-03\n",
            " -1.22986420e-03 -1.27530249e-04 -3.68126528e-03 -6.42158557e-04\n",
            "  6.31584902e-04  4.31182794e-03  7.71055056e-04 -1.38718484e-03\n",
            " -4.25698189e-03  1.94907910e-03  4.61113034e-03 -6.81002915e-04\n",
            "  7.08298903e-05 -2.63472996e-03  1.08120284e-05 -1.02478254e-04\n",
            "  4.54857887e-04 -2.40816618e-03 -2.01171869e-03 -7.07216677e-04\n",
            " -2.22822977e-03 -4.23745532e-03  1.74436183e-03 -1.62963421e-04\n",
            " -3.83323943e-03 -1.98591547e-03 -4.86527430e-03  3.20609403e-03\n",
            " -3.12336325e-03  2.07447261e-03  2.11954393e-04  1.33738003e-03\n",
            " -4.60475171e-03  4.08816338e-03 -2.11666935e-04  1.52774807e-03]\n"
          ]
        }
      ]
    },
    {
      "cell_type": "markdown",
      "metadata": {
        "id": "fQyVREXYYEN6"
      },
      "source": [
        "# Plotando gráficos"
      ]
    },
    {
      "cell_type": "markdown",
      "metadata": {
        "id": "Ilmhkv4kYJFR"
      },
      "source": [
        "Para plotar um conjunto de palavras execute o script abaixo:"
      ]
    },
    {
      "cell_type": "code",
      "metadata": {
        "id": "QXw-7PWTYO5E"
      },
      "source": [
        "from sklearn.decomposition import PCA\n",
        "from matplotlib import pyplot\n",
        "\n",
        "def plot_words(words):    \n",
        "    #Carrega o vetor das palavras a serem plotadas\n",
        "    vectors = []\n",
        "    for word in words:    \n",
        "         vectors.append(model[word])\n",
        "    #Ajustar um modelo 2D de PCA aos vetores\n",
        "    pca = PCA(n_components=2)\n",
        "    resultado = pca.fit_transform(vectors)\n",
        "    #Criar um gráfico de dispersão da projeção\n",
        "    pyplot.scatter(resultado[:, 0], resultado[:, 1])\n",
        "    #Adiciona as palavras no gráfico\n",
        "    for i in range(len(words)):\n",
        "        pyplot.annotate(words[i], xy=(resultado[i, 0], resultado[i, 1]))        \n",
        "    #Mostra o gráfico\n",
        "    pyplot.show()\n",
        "logging.info('Função criada')"
      ],
      "execution_count": 31,
      "outputs": []
    },
    {
      "cell_type": "markdown",
      "metadata": {
        "id": "rJrByAxMYSi4"
      },
      "source": [
        "O comando abaixo plota o gráfico das palavras especificadas."
      ]
    },
    {
      "cell_type": "code",
      "metadata": {
        "id": "QB-HhR64YSs5",
        "outputId": "eaf32199-3ee5-4c13-b144-16130f93ce63",
        "colab": {
          "base_uri": "https://localhost:8080/",
          "height": 265
        }
      },
      "source": [
        "plot_words(['rei', 'rainha', 'homem', 'mulher','esposa','concubina', 'infanta','princesa','meia-irmã','sogra','sobrinha','consorte', 'enteada'])"
      ],
      "execution_count": 32,
      "outputs": [
        {
          "output_type": "display_data",
          "data": {
            "text/plain": [
              "<Figure size 432x288 with 1 Axes>"
            ],
            "image/png": "[encoded data removed]"
          },
          "metadata": {
            "needs_background": "light"
          }
        }
      ]
    },
    {
      "cell_type": "markdown",
      "metadata": {
        "id": "9OOKFfegolpn"
      },
      "source": [
        "Lista as palavras do vocabulário"
      ]
    },
    {
      "cell_type": "code",
      "metadata": {
        "id": "_olGNOzqoPeI",
        "outputId": "8d376939-d3a1-49a4-a04b-9e5650e2d75e",
        "colab": {
          "base_uri": "https://localhost:8080/"
        }
      },
      "source": [
        "words = list(model.wv.vocab)\n",
        "print(words)"
      ],
      "execution_count": 33,
      "outputs": [
        {
          "output_type": "stream",
          "name": "stderr",
          "text": [
            "IOPub data rate exceeded.\n",
            "The notebook server will temporarily stop sending output\n",
            "to the client in order to avoid crashing it.\n",
            "To change this limit, set the config variable\n",
            "`--NotebookApp.iopub_data_rate_limit`.\n",
            "\n",
            "Current values:\n",
            "NotebookApp.iopub_data_rate_limit=1000000.0 (bytes/sec)\n",
            "NotebookApp.rate_limit_window=3.0 (secs)\n",
            "\n"
          ]
        }
      ]
    },
    {
      "cell_type": "markdown",
      "metadata": {
        "id": "FBC07yKlQk5y"
      },
      "source": [
        "##Visualizando o modelo\n",
        "\n",
        "Aqui tentamos visualizar a conexão entre as seguintes palavras em um subespaço 2D"
      ]
    },
    {
      "cell_type": "markdown",
      "metadata": {
        "id": "BndfpQLoX9N5"
      },
      "source": [
        "### Função de visualização"
      ]
    },
    {
      "cell_type": "code",
      "metadata": {
        "id": "uPyzH46kV5_b"
      },
      "source": [
        "#Import das bibliotecas\n",
        "import numpy as np\n",
        "import matplotlib.pyplot as plt\n",
        "%matplotlib inline\n",
        "\n",
        "def plotar_words(Wl):\n",
        "    #Carrega o vetor das palavras a serem plotadas\n",
        "    Wv = []\n",
        "    for i in range(len(Wl)):\n",
        "       Wv.append(model[Wl[i]])\n",
        "\n",
        "    #Queremos um subespaço onde Wv[0]-Wv[1] e Wv[2]-Wv[3] sejam as linhas do eixo, \n",
        "    #então essas 4 palavras estão no eixo correspondente\n",
        "    b1 = (Wv[1]-Wv[0])\n",
        "    b2 = (Wv[3]-Wv[2])\n",
        "\n",
        "    #Transforma a lista de embeddings em um vetor simples\n",
        "    W = np.array(Wv)\n",
        "    #Transforma as diferenças em um vetor simples\n",
        "    B = np.array([b1,b2])\n",
        "    #Calcula o pseudo-inversa de uma matriz\n",
        "    Bi = np.linalg.pinv(B.T)\n",
        "\n",
        "    #Multiplica Bi e W.T\n",
        "    Wp = np.matmul(Bi,W.T)\n",
        "    #Calcula os pivos\n",
        "    Wp = (Wp.T-[Wp[0,2],Wp[1,0]]).T\n",
        "\n",
        "    #Dimensões da figura\n",
        "    plt.figure(figsize=(12,7))\n",
        "    #Adiciona linha vertical\n",
        "    plt.axvline()\n",
        "    #Adiciona linha horizontal\n",
        "    plt.axhline()\n",
        "    #Criar um gráfico de dispersão da projeção\n",
        "    plt.scatter(Wp[0,:], Wp[1,:])\n",
        "    rX = max(Wp[0,:])-min(Wp[0,:])\n",
        "    rY = max(Wp[1,:])-min(Wp[1,:])\n",
        "    eps = 0.005\n",
        "    #Adiciona as palavras no gráfico\n",
        "    for i, txt in enumerate(Wl):\n",
        "        plt.annotate(txt, (Wp[0,i]+rX*eps, Wp[1,i]+rX*eps))\n",
        "    #Mostra o gráfico\n",
        "    plt.show()\n",
        "\n",
        "logging.info('Função criada')"
      ],
      "execution_count": 34,
      "outputs": []
    },
    {
      "cell_type": "markdown",
      "metadata": {
        "id": "UZ_xb5rVYB97"
      },
      "source": [
        "#### Exemplo"
      ]
    },
    {
      "cell_type": "code",
      "metadata": {
        "id": "CKozLghgX02s",
        "outputId": "08e97c88-b5f7-4f31-b103-b25f28ad3196",
        "colab": {
          "base_uri": "https://localhost:8080/",
          "height": 428
        }
      },
      "source": [
        "Wl =['rei', 'rainha', 'homem', 'mulher','esposa', 'monarca', 'concubina', 'infanta','princesa','meia-irmã','sogra','sobrinha','consorte', 'enteada']\n",
        "plotar_words(Wl)"
      ],
      "execution_count": 35,
      "outputs": [
        {
          "output_type": "display_data",
          "data": {
            "text/plain": [
              "<Figure size 864x504 with 1 Axes>"
            ],
            "image/png": "[encoded data removed]"
          },
          "metadata": {
            "needs_background": "light"
          }
        }
      ]
    },
    {
      "cell_type": "markdown",
      "metadata": {
        "id": "YW9pN7oyYGna"
      },
      "source": [
        "#### Detalhamento da função"
      ]
    },
    {
      "cell_type": "markdown",
      "metadata": {
        "id": "aFp8RcMaYLG7"
      },
      "source": [
        "Import das bibliotecas"
      ]
    },
    {
      "cell_type": "code",
      "metadata": {
        "id": "Bo5FZFvcQ_C0"
      },
      "source": [
        "#Import das bibliotecas\n",
        "import numpy as np\n",
        "\n",
        "import matplotlib.pyplot as plt\n",
        "%matplotlib inline"
      ],
      "execution_count": 36,
      "outputs": []
    },
    {
      "cell_type": "markdown",
      "metadata": {
        "id": "EYtXDyYkYSb6"
      },
      "source": [
        "Lista de palavras a serem visualizadas"
      ]
    },
    {
      "cell_type": "code",
      "metadata": {
        "id": "nd9BFdyWQvy1"
      },
      "source": [
        "#Lista das palavras\n",
        "Wl = ['rei', 'rainha', 'homem', 'mulher','esposa', 'monarca', 'concubina', 'infanta','princesa','meia-irmã','sogra','sobrinha','consorte', 'enteada']\n",
        "\n",
        "#Lista dos embeddings das palavras\n",
        "Wv = []\n",
        "for i in range(len(Wl)):\n",
        "    Wv.append(model[Wl[i]])"
      ],
      "execution_count": 37,
      "outputs": []
    },
    {
      "cell_type": "markdown",
      "metadata": {
        "id": "6fzEsQ9cRKGX"
      },
      "source": [
        "Queremos um subespaço onde rei-rainha e homem-mulher são as linhas do eixo, então essas 4 palavras estão no eixo correspondente\n",
        "\n",
        "\n"
      ]
    },
    {
      "cell_type": "code",
      "metadata": {
        "id": "NnliS_QXRKTg"
      },
      "source": [
        "#Diferença de Wv[1]-Wv[0]\n",
        "b1 = (Wv[1]-Wv[0])\n",
        "#Diferença de Wv[3]-Wv[2]\n",
        "b2 = (Wv[3]-Wv[2])"
      ],
      "execution_count": 38,
      "outputs": []
    },
    {
      "cell_type": "markdown",
      "metadata": {
        "id": "wueppp6qRVLo"
      },
      "source": [
        "Queremos que a base seja (1,0) e (0,1) do espaço projetado. Com uma matriz quadrada, devemos calcular a matriz inversa para obter os vetores base. No entanto, a matriz não quadrada tem apenas pseudo-inversa."
      ]
    },
    {
      "cell_type": "code",
      "metadata": {
        "id": "t0jJ9VgmRVWf"
      },
      "source": [
        "#Transforma a lista de embeddings em um vetor simples\n",
        "W = np.array(Wv)\n",
        "#Transforma as diferenças em um vetor simples\n",
        "B = np.array([b1,b2])\n",
        "#Calcula o pseudo-inversa de uma matriz\n",
        "Bi = np.linalg.pinv(B.T)"
      ],
      "execution_count": 39,
      "outputs": []
    },
    {
      "cell_type": "code",
      "metadata": {
        "id": "8VeIV1XaSooZ",
        "outputId": "a3918b13-39b0-45ca-b14e-711974ccb70e",
        "colab": {
          "base_uri": "https://localhost:8080/"
        }
      },
      "source": [
        "#Mostra as dimensões de B e W\n",
        "print(B.shape)\n",
        "print(W.T.shape)"
      ],
      "execution_count": 40,
      "outputs": [
        {
          "output_type": "stream",
          "name": "stdout",
          "text": [
            "(2, 300)\n",
            "(300, 14)\n"
          ]
        }
      ]
    },
    {
      "cell_type": "markdown",
      "metadata": {
        "id": "piiTxcIVSuuX"
      },
      "source": [
        "Projete todas as incorporações de palavras no subespaço 2D.\n",
        "\n",
        "  Temos que mudar as linhas rei-rainha e homem-mulher para o eixo."
      ]
    },
    {
      "cell_type": "code",
      "metadata": {
        "id": "LdhpXx58S0cH",
        "outputId": "32dfc5e9-c64a-4e1f-f8ac-12bbd61d2e8e",
        "colab": {
          "base_uri": "https://localhost:8080/"
        }
      },
      "source": [
        "#Multiplica Bi e W.T\n",
        "Wp = np.matmul(Bi,W.T)\n",
        "print(Wp.shape)\n",
        "#Calcula os pivos\n",
        "Wp = (Wp.T-[Wp[0,2],Wp[1,0]]).T"
      ],
      "execution_count": 41,
      "outputs": [
        {
          "output_type": "stream",
          "name": "stdout",
          "text": [
            "(2, 14)\n"
          ]
        }
      ]
    },
    {
      "cell_type": "markdown",
      "metadata": {
        "id": "VfMMHEwyS6Iw"
      },
      "source": [
        "Vamos colocar as palavras no plano cartesiano!"
      ]
    },
    {
      "cell_type": "code",
      "metadata": {
        "id": "Mfyi51MGS8wA",
        "outputId": "c30e5b20-bb0e-4e5f-a0ab-e588965ad8c7",
        "colab": {
          "base_uri": "https://localhost:8080/",
          "height": 428
        }
      },
      "source": [
        "#Dimensões da figura\n",
        "plt.figure(figsize=(12,7))\n",
        "#Adiciona linha vertical\n",
        "plt.axvline()\n",
        "#Adiciona linha horizontal\n",
        "plt.axhline()\n",
        "#Plota eixo x e y\n",
        "plt.scatter(Wp[0,:], Wp[1,:])\n",
        "rX = max(Wp[0,:])-min(Wp[0,:])\n",
        "rY = max(Wp[1,:])-min(Wp[1,:])\n",
        "eps = 0.005\n",
        "#Percore a lista de palavras\n",
        "for i, txt in enumerate(Wl):\n",
        "    plt.annotate(txt, (Wp[0,i]+rX*eps, Wp[1,i]+rX*eps))\n",
        "plt.show()"
      ],
      "execution_count": 42,
      "outputs": [
        {
          "output_type": "display_data",
          "data": {
            "text/plain": [
              "<Figure size 864x504 with 1 Axes>"
            ],
            "image/png": "[encoded data removed]"
          },
          "metadata": {
            "needs_background": "light"
          }
        }
      ]
    },
    {
      "cell_type": "markdown",
      "metadata": {
        "id": "107jSu39Jj-q"
      },
      "source": [
        "# Exemplo comparando os embeddings das ocorrências da palavra \"banco\" em uma sentença. "
      ]
    },
    {
      "cell_type": "markdown",
      "source": [
        "## Comparando embeddings de palavras"
      ],
      "metadata": {
        "id": "tJBS-kfhwCEL"
      }
    },
    {
      "cell_type": "code",
      "metadata": {
        "id": "m_vfdQKPEnCn"
      },
      "source": [
        "texto = \"Depois de roubar o cofre do banco ,\"\\\n",
        "        \" o ladrão de banco foi visto \" \\\n",
        "        \"sentado no banco da praça central.\"\n",
        "\n",
        "logging.info('Texto armazenado!')"
      ],
      "execution_count": 43,
      "outputs": []
    },
    {
      "cell_type": "code",
      "metadata": {
        "colab": {
          "base_uri": "https://localhost:8080/"
        },
        "id": "w16Zk3DT1xeZ",
        "outputId": "9d850ce6-d8b1-44eb-8701-3ebd4f4b7e7a"
      },
      "source": [
        "palavras = texto.split()\n",
        "print(palavras)"
      ],
      "execution_count": 44,
      "outputs": [
        {
          "output_type": "stream",
          "name": "stdout",
          "text": [
            "['Depois', 'de', 'roubar', 'o', 'cofre', 'do', 'banco', ',', 'o', 'ladrão', 'de', 'banco', 'foi', 'visto', 'sentado', 'no', 'banco', 'da', 'praça', 'central.']\n"
          ]
        }
      ]
    },
    {
      "cell_type": "markdown",
      "source": [
        "Confirmando os tokens do documento"
      ],
      "metadata": {
        "id": "JSYygMNVxNon"
      }
    },
    {
      "cell_type": "code",
      "metadata": {
        "id": "zQ7J7b-SFCXN",
        "colab": {
          "base_uri": "https://localhost:8080/"
        },
        "outputId": "58159c37-43da-4247-f71e-e34830147bfc"
      },
      "source": [
        "i = 0\n",
        "for token in palavras:\n",
        "   print(i, token)\n",
        "   i = i + 1"
      ],
      "execution_count": 45,
      "outputs": [
        {
          "output_type": "stream",
          "name": "stdout",
          "text": [
            "0 Depois\n",
            "1 de\n",
            "2 roubar\n",
            "3 o\n",
            "4 cofre\n",
            "5 do\n",
            "6 banco\n",
            "7 ,\n",
            "8 o\n",
            "9 ladrão\n",
            "10 de\n",
            "11 banco\n",
            "12 foi\n",
            "13 visto\n",
            "14 sentado\n",
            "15 no\n",
            "16 banco\n",
            "17 da\n",
            "18 praça\n",
            "19 central.\n"
          ]
        }
      ]
    },
    {
      "cell_type": "markdown",
      "source": [
        "Gera os embeddings"
      ],
      "metadata": {
        "id": "2b0Uw6q296rj"
      }
    },
    {
      "cell_type": "code",
      "source": [
        "model = Word2Vec([palavras], min_count=1)\n",
        "\n",
        "print(model)"
      ],
      "metadata": {
        "colab": {
          "base_uri": "https://localhost:8080/"
        },
        "id": "OZiRW47J98up",
        "outputId": "189f7972-2ab8-4b14-9bcb-80b69247a911"
      },
      "execution_count": 46,
      "outputs": [
        {
          "output_type": "stream",
          "name": "stderr",
          "text": [
            "WARNING:gensim.models.base_any2vec:under 10 jobs per worker: consider setting a smaller `batch_words' for smoother alpha decay\n"
          ]
        },
        {
          "output_type": "stream",
          "name": "stdout",
          "text": [
            "Word2Vec(vocab=16, size=100, alpha=0.025)\n"
          ]
        }
      ]
    },
    {
      "cell_type": "markdown",
      "source": [
        "Palavras recuperadas do modelo"
      ],
      "metadata": {
        "id": "nPActA0p-cvC"
      }
    },
    {
      "cell_type": "code",
      "source": [
        "words = list(model.wv.vocab)\n",
        "i = 0\n",
        "for token in words:\n",
        "   print(i, token)\n",
        "   i = i + 1"
      ],
      "metadata": {
        "colab": {
          "base_uri": "https://localhost:8080/"
        },
        "id": "qDgXN1Q0-GNJ",
        "outputId": "6d862886-fe34-4799-b617-e0bbf96ad352"
      },
      "execution_count": 47,
      "outputs": [
        {
          "output_type": "stream",
          "name": "stdout",
          "text": [
            "0 Depois\n",
            "1 de\n",
            "2 roubar\n",
            "3 o\n",
            "4 cofre\n",
            "5 do\n",
            "6 banco\n",
            "7 ,\n",
            "8 ladrão\n",
            "9 foi\n",
            "10 visto\n",
            "11 sentado\n",
            "12 no\n",
            "13 da\n",
            "14 praça\n",
            "15 central.\n"
          ]
        }
      ]
    },
    {
      "cell_type": "markdown",
      "metadata": {
        "id": "-TysEHsOZaij"
      },
      "source": [
        "Exibe os embenddings das palavras"
      ]
    },
    {
      "cell_type": "markdown",
      "metadata": {
        "id": "VXZFKHQBZIFk"
      },
      "source": [
        "A banco aparece somente no índices 6.\n",
        "\n",
        "As outras ocorrências foram retiradas pois possuem a mesma representação.\n"
      ]
    },
    {
      "cell_type": "code",
      "metadata": {
        "id": "2hrWa-RzZIFl",
        "colab": {
          "base_uri": "https://localhost:8080/"
        },
        "outputId": "45a51090-f1ae-4539-ddb1-bbcc78c0c5e7"
      },
      "source": [
        "# Índice das palavras a serem comparadas\n",
        "palavra1 = 6\n",
        "palavra2 = 11\n",
        "palavra3 = 16\n",
        "\n",
        "print(\"Os primeiros 5 valores de cada instância de \\\"banco\\\".\")\n",
        "print(\"\")\n",
        "\n",
        "print(str(words[palavra1]), model[words[palavra1]][:5])\n",
        "print(str(words[palavra1]), model[words[palavra1]][:5])\n",
        "print(str(words[palavra1]), model[words[palavra1]][:5])"
      ],
      "execution_count": 48,
      "outputs": [
        {
          "output_type": "stream",
          "name": "stdout",
          "text": [
            "Os primeiros 5 valores de cada instância de \"banco\".\n",
            "\n",
            "banco [ 0.00325565 -0.00486553 -0.00292941  0.00176024 -0.00137261]\n",
            "banco [ 0.00325565 -0.00486553 -0.00292941  0.00176024 -0.00137261]\n",
            "banco [ 0.00325565 -0.00486553 -0.00292941  0.00176024 -0.00137261]\n"
          ]
        }
      ]
    },
    {
      "cell_type": "code",
      "source": [
        "# Importando as bibliotecas\n",
        "from scipy.spatial.distance import cosine\n",
        "\n",
        "# Índice das palavras a serem comparadas\n",
        "print(\"Período:\", texto)\n",
        "print(\"Palavra 1 =\", palavra1, \"=\", str(words[palavra1]), \"(instituição financeira)\")\n",
        "print(\"Palavra 2 =\", palavra2, \"=\", str(words[palavra1]), \"(instituição financeira)\")\n",
        "print(\"Palavra 3 =\", palavra3, \"=\", str(words[palavra1]), \"(assento)\")\n",
        "\n",
        "# Calcula a similaridade de coseno entre as palavras banco\n",
        "# Em \"ladrão de banco\" versus \"banco da praça\" (diferentes significados).\n",
        "#banco_diferente = doc[palavra2].similarity(doc[palavra3])\n",
        "banco_diferente = 1 - cosine(model[words[palavra1]], model[words[palavra1]])\n",
        "\n",
        "print(\"Vetor de similaridade  para diferentes significados(\",palavra2,\",\",palavra3,\"):  %.2f\" % banco_diferente)\n",
        "\n",
        "# Calcula a similaridade de coseno entre as palavras banco\n",
        "# Em \"ladrão de banco\" versus \"cofre do banco\" (mesmo significado).\n",
        "mesmo_banco = 1 - cosine(model[words[palavra1]], model[words[palavra1]])\n",
        "\n",
        "print(\"Vetor de similaridade  para mesmo significado(\",palavra2,\",\",palavra1,\"):  %.2f\" % mesmo_banco)\n",
        "\n",
        "# Calcula a similaridade de coseno entre as palavras banco\n",
        "# Em \"cofre do banco\" versus \"banco da praça\" (diferente significados).\n",
        "banco_diferente2 = 1 - cosine(model[words[palavra1]], model[words[palavra1]])\n",
        "\n",
        "print(\"Vetor de similaridade  para diferentes significados(\",palavra3,\",\",palavra1,\"):  %.2f\" % banco_diferente2)"
      ],
      "metadata": {
        "colab": {
          "base_uri": "https://localhost:8080/"
        },
        "id": "mSAXA7F6vdmQ",
        "outputId": "0ba1fbc5-2031-4621-b919-3fe7c95e22e7"
      },
      "execution_count": 49,
      "outputs": [
        {
          "output_type": "stream",
          "name": "stdout",
          "text": [
            "Período: Depois de roubar o cofre do banco , o ladrão de banco foi visto sentado no banco da praça central.\n",
            "Palavra 1 = 6 = banco (instituição financeira)\n",
            "Palavra 2 = 11 = banco (instituição financeira)\n",
            "Palavra 3 = 16 = banco (assento)\n",
            "Vetor de similaridade  para diferentes significados( 11 , 16 ):  1.00\n",
            "Vetor de similaridade  para mesmo significado( 11 , 6 ):  1.00\n",
            "Vetor de similaridade  para diferentes significados( 16 , 6 ):  1.00\n"
          ]
        }
      ]
    },
    {
      "cell_type": "markdown",
      "source": [
        "# Exemplo de palavras individuais"
      ],
      "metadata": {
        "id": "kXfvABHFVnP0"
      }
    },
    {
      "cell_type": "code",
      "source": [
        "texto = \"pilha fila enfileirar empilhar\"\n",
        "palavras = [texto.split()]\n",
        "print(palavras)"
      ],
      "metadata": {
        "colab": {
          "base_uri": "https://localhost:8080/"
        },
        "id": "AC4Ae0iCXXqD",
        "outputId": "bae2aa79-27b5-4041-8899-6b750cbe7b10"
      },
      "execution_count": 50,
      "outputs": [
        {
          "output_type": "stream",
          "name": "stdout",
          "text": [
            "[['pilha', 'fila', 'enfileirar', 'empilhar']]\n"
          ]
        }
      ]
    },
    {
      "cell_type": "code",
      "source": [
        "model = Word2Vec(palavras, min_count=1)"
      ],
      "metadata": {
        "colab": {
          "base_uri": "https://localhost:8080/"
        },
        "id": "thjSZP-lWrRF",
        "outputId": "94468677-8bf4-4e92-d1db-cdf3b5e335d1"
      },
      "execution_count": 51,
      "outputs": [
        {
          "output_type": "stream",
          "name": "stderr",
          "text": [
            "WARNING:gensim.models.base_any2vec:under 10 jobs per worker: consider setting a smaller `batch_words' for smoother alpha decay\n"
          ]
        }
      ]
    },
    {
      "cell_type": "code",
      "source": [
        "print(model['pilha'])"
      ],
      "metadata": {
        "colab": {
          "base_uri": "https://localhost:8080/"
        },
        "id": "cM7ga7g1W1Iu",
        "outputId": "ec2fca7a-f612-4d55-8d70-4fc259ce551f"
      },
      "execution_count": 52,
      "outputs": [
        {
          "output_type": "stream",
          "name": "stdout",
          "text": [
            "[ 4.4205412e-03 -3.3344005e-03  2.5902698e-03 -4.5570452e-03\n",
            " -2.4121650e-03 -3.0271090e-03  3.8977354e-03  3.4575416e-03\n",
            " -4.8241196e-03  3.5464720e-04 -5.6532572e-04 -4.9236598e-03\n",
            " -4.2033428e-03  4.2848042e-03  2.6360261e-03 -2.4340963e-03\n",
            " -1.6354413e-03  1.3591980e-03 -3.9963787e-03  4.8641590e-03\n",
            "  1.0397960e-03  4.4969496e-04 -1.1560485e-03  4.5175883e-03\n",
            "  6.4847659e-04  5.6436115e-06 -1.1052603e-03  1.7430115e-03\n",
            "  2.7854459e-03  3.2085434e-03  4.3023759e-03 -3.8121031e-03\n",
            " -2.7574615e-03  1.0677043e-03 -3.4783608e-03 -4.4587180e-03\n",
            "  3.4520675e-03  1.3300796e-03  3.2883331e-03  4.8306072e-03\n",
            " -4.9024220e-03  1.9287645e-03  3.4216004e-03  1.6497367e-03\n",
            " -2.8381755e-03 -2.1871574e-04  4.6158507e-03  2.5884602e-03\n",
            "  4.3806960e-03  3.5393730e-04  4.4048312e-03 -8.5252954e-04\n",
            " -3.9416063e-03 -3.6751141e-03 -8.5314468e-04 -2.4633296e-03\n",
            "  6.0111372e-05  7.9985132e-04  3.7705053e-03 -3.1429022e-03\n",
            " -1.4089197e-03  1.0194387e-03 -3.3019227e-03 -2.3455424e-03\n",
            "  6.8024138e-04  1.6346906e-03 -4.6314760e-03 -1.2256874e-03\n",
            "  1.4037247e-04 -5.6192675e-04 -3.1325065e-03 -3.4997726e-03\n",
            "  1.9309464e-03 -3.2926879e-03 -8.6131762e-04 -1.0681177e-03\n",
            " -8.7958667e-04 -2.9576675e-03 -1.7767632e-03  2.5020998e-03\n",
            " -3.1303356e-03 -1.1372318e-03 -4.3113031e-03 -3.2057881e-03\n",
            "  2.1714973e-03 -2.6636615e-03 -4.7484390e-03 -4.9836817e-03\n",
            "  3.1809164e-03  1.7552781e-03 -2.6703144e-03 -3.3841154e-03\n",
            "  3.8658041e-03  3.2099751e-03 -2.5290067e-03  2.2515010e-03\n",
            " -1.6507282e-03  4.0785829e-03 -8.1356434e-04  8.5263944e-04]\n"
          ]
        }
      ]
    },
    {
      "cell_type": "code",
      "source": [
        "print(model['fila'])"
      ],
      "metadata": {
        "colab": {
          "base_uri": "https://localhost:8080/"
        },
        "id": "0AR2Et44VsOa",
        "outputId": "b25f0d04-1693-4a8a-843b-7df44e534228"
      },
      "execution_count": 53,
      "outputs": [
        {
          "output_type": "stream",
          "name": "stdout",
          "text": [
            "[-4.4393460e-03 -3.7704760e-03 -3.8713152e-03  4.7795852e-03\n",
            " -9.1009383e-04  3.3770434e-03 -1.2555018e-03 -3.6051469e-03\n",
            " -2.7627053e-04 -1.8010809e-03  9.5735083e-04  3.6683122e-03\n",
            "  4.7131306e-03 -1.6395005e-03 -4.3658522e-04  1.3184415e-03\n",
            "  1.0406809e-03 -2.8984623e-03  3.2481316e-03 -2.7426165e-03\n",
            " -1.1202507e-03  6.5393469e-05  2.3375065e-03  4.1461806e-03\n",
            " -4.4215247e-03  1.7188473e-03 -8.5614133e-04 -1.2692198e-03\n",
            "  3.7080536e-03 -1.3860363e-03 -2.4971073e-03  1.3377086e-03\n",
            "  1.2527076e-04 -4.3644552e-05  1.2559695e-03  1.7090789e-03\n",
            " -2.5253597e-04 -3.7550824e-03 -4.4704545e-03  1.0509341e-03\n",
            "  1.7107503e-03 -1.7141565e-03 -3.3286368e-03  4.6976884e-03\n",
            "  4.7020568e-03  6.6165056e-04 -1.7253465e-03  2.3112472e-03\n",
            " -2.5539792e-03 -4.0095192e-03 -4.0545138e-03  5.2156221e-05\n",
            " -2.6796849e-03 -6.1317958e-04 -3.1241702e-03 -3.8077782e-03\n",
            "  4.6088928e-03 -8.3930138e-04 -3.4657819e-04  1.0339058e-03\n",
            "  3.1448551e-03 -9.5048061e-05  3.6817009e-03  1.0285500e-03\n",
            " -3.5571456e-03 -7.6785125e-04 -1.5631519e-03 -1.8323392e-03\n",
            "  2.1445432e-03 -3.6199270e-03  3.5293093e-03  2.4760920e-03\n",
            " -1.7692766e-03 -1.4851002e-03 -1.6863530e-03  1.8577449e-04\n",
            "  8.6241656e-05  2.1059578e-03 -1.3910321e-03 -1.4289883e-03\n",
            "  3.5873151e-03 -2.9983385e-03 -6.8786927e-04 -2.2932128e-03\n",
            "  2.0905202e-03 -2.3591729e-04  1.6953905e-05  1.5121173e-03\n",
            "  4.8961691e-03 -2.2250714e-03 -1.8708733e-03  2.3741829e-03\n",
            "  4.8870654e-03 -3.3339295e-03 -3.2297776e-03  9.5995341e-04\n",
            " -3.0754032e-03 -3.9629466e-03 -6.5166375e-04  3.2661096e-03]\n"
          ]
        }
      ]
    },
    {
      "cell_type": "code",
      "source": [
        "print(model['empilhar'])"
      ],
      "metadata": {
        "colab": {
          "base_uri": "https://localhost:8080/"
        },
        "id": "c1XLzCrLVuOz",
        "outputId": "ee52d207-f042-4546-b74b-e62a317a6999"
      },
      "execution_count": 54,
      "outputs": [
        {
          "output_type": "stream",
          "name": "stdout",
          "text": [
            "[-0.00359719  0.00281328  0.002352    0.00138032  0.00234632  0.00018669\n",
            "  0.00025915 -0.00024549  0.0014142   0.00082662  0.00476895  0.00210609\n",
            "  0.00034342 -0.00117471 -0.00135425  0.00363    -0.00044904 -0.00119547\n",
            "  0.00434847 -0.00015553 -0.0020005  -0.00222132  0.00409169  0.00366691\n",
            "  0.00190106 -0.0013925   0.00353291  0.00163033 -0.00190053  0.00379068\n",
            " -0.00077253 -0.00279879 -0.00268963  0.00391403  0.00156628 -0.00140629\n",
            "  0.00049819  0.00068504 -0.00424149  0.00211297  0.00417218 -0.00391018\n",
            " -0.00434754 -0.00462615 -0.00425164  0.00462276  0.00248153  0.00413709\n",
            "  0.00244148  0.0037515  -0.00288056  0.00148921  0.00455533  0.00485038\n",
            "  0.002315   -0.00431872 -0.0048117   0.00121592  0.0030828   0.00294453\n",
            "  0.00261081 -0.00359022  0.00108454  0.0046308  -0.00216905  0.00393061\n",
            "  0.00106699 -0.00184163 -0.00443138  0.00479672 -0.00482725 -0.00313882\n",
            "  0.0038342   0.00140316  0.00142194  0.00185584  0.00493169  0.00187396\n",
            " -0.00376898 -0.00188475 -0.00168618  0.00091356  0.00467922 -0.00383023\n",
            "  0.00090736 -0.00364456  0.00091076  0.00319582 -0.00026069  0.00376548\n",
            "  0.00196226  0.00206866  0.0030009   0.00266431  0.00203721 -0.00112875\n",
            "  0.00294057 -0.00381043  0.00340014  0.00010889]\n"
          ]
        }
      ]
    },
    {
      "cell_type": "code",
      "source": [
        "print(model['enfileirar'])"
      ],
      "metadata": {
        "colab": {
          "base_uri": "https://localhost:8080/"
        },
        "id": "DsdtxCe5VvyU",
        "outputId": "886e6e0a-c142-409c-af54-8773300e8768"
      },
      "execution_count": 55,
      "outputs": [
        {
          "output_type": "stream",
          "name": "stdout",
          "text": [
            "[ 4.8680226e-03  5.3767988e-04  4.5426278e-03 -4.2567968e-05\n",
            " -2.5014761e-03  4.7774520e-03  1.2499228e-04 -2.8005319e-03\n",
            " -3.0851565e-04  3.0299202e-03  2.6700431e-03 -1.4659726e-03\n",
            " -2.4507677e-03  1.7094845e-03  2.0798345e-03 -1.8549943e-03\n",
            "  1.7648914e-03  3.8412383e-03  4.0599536e-03 -4.6679373e-03\n",
            "  2.9878572e-03  3.8366555e-04  3.6620293e-03 -3.9743274e-03\n",
            "  1.7371088e-03  2.4429683e-03 -3.8318711e-03  2.4141828e-03\n",
            " -4.4986536e-03 -1.9924042e-03 -1.6820218e-03 -2.5707257e-03\n",
            " -2.3879141e-03 -2.4870997e-03 -1.4398021e-03 -4.6360749e-03\n",
            "  4.6948907e-03  2.5420436e-03 -3.3686911e-03  1.9728837e-03\n",
            "  1.3020685e-03  4.6245081e-05 -2.1348828e-03  1.8276543e-03\n",
            "  1.3254640e-03 -2.3622361e-03 -3.0273735e-04 -1.9953768e-03\n",
            " -6.8318500e-04  1.3718837e-03 -1.3355343e-03 -2.2378175e-03\n",
            "  4.0088133e-03 -3.5029026e-03 -1.5698930e-03 -1.0023166e-03\n",
            " -2.4551136e-04 -4.1339877e-03 -4.9467511e-03  3.1871742e-04\n",
            " -1.8472369e-04  3.9052276e-03  2.0486729e-03 -4.2651370e-03\n",
            " -9.9488604e-04  2.6680450e-03  2.1360759e-03 -2.2710096e-03\n",
            "  2.1363625e-03 -7.9613546e-04 -2.9632007e-03 -4.6926374e-03\n",
            "  3.8965172e-03 -2.1003895e-03  3.2357373e-03  1.9560556e-03\n",
            "  6.7704363e-04  2.5029932e-03  2.2665183e-04  1.6856688e-03\n",
            " -9.3261641e-04  4.7026603e-03  3.9820489e-03 -1.8904903e-03\n",
            "  3.3835487e-03  8.3203643e-04 -2.7672406e-03 -3.6914705e-03\n",
            " -7.5292151e-04 -3.2413590e-03  7.7855826e-04  4.2735483e-03\n",
            " -9.6320000e-04  1.9492254e-03 -7.3788123e-04  2.4620537e-03\n",
            " -7.3064369e-04 -4.1186414e-03 -2.6756709e-03 -3.2671355e-03]\n"
          ]
        }
      ]
    }
  ]
}