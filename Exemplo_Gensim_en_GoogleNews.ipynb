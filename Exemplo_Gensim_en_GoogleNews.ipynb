{
  "nbformat": 4,
  "nbformat_minor": 0,
  "metadata": {
    "colab": {
      "name": "Exemplo_Gensim_en_GoogleNews.ipynb",
      "provenance": [],
      "collapsed_sections": [],
      "toc_visible": true,
      "machine_shape": "hm",
      "include_colab_link": true
    },
    "kernelspec": {
      "name": "python3",
      "display_name": "Python 3"
    }
  },
  "cells": [
    {
      "cell_type": "markdown",
      "metadata": {
        "id": "view-in-github",
        "colab_type": "text"
      },
      "source": [
        "<a href=\"https://colab.research.google.com/github/osmarbraz/exemplos_gensim/blob/master/Exemplo_Gensim_en_GoogleNews.ipynb\" target=\"_parent\"><img src=\"https://colab.research.google.com/assets/colab-badge.svg\" alt=\"Open In Colab\"/></a>"
      ]
    },
    {
      "cell_type": "markdown",
      "metadata": {
        "id": "IziPWVaeGlWk"
      },
      "source": [
        "# Exemplo Word Embedding(en) usando Gensim e Google News em Inglês(en)\n",
        "\n",
        "Exemplo de embendding usando Gensim Python Library com execução através do Google Colaboratory.<br>\n",
        "É Biblioteca open-source para modelagem de tópicos não supervisionados e processamento de linguagem.\n",
        "Implementado em Python e Cython. \n",
        "Projetado para lidar com grandes volumes de texto, usando fluxo de dados e algoritmos on-line incrementais. \n",
        "Seu diferencial em relação a maioria dos outros software para aprendizado de máquina os quais visam apenas o processamento em memória.<br>\n",
        "https://radimrehurek.com/gensim/\n",
        "\n",
        "\n",
        "\n"
      ]
    },
    {
      "cell_type": "markdown",
      "metadata": {
        "id": "MXAxI8Oq2aD7"
      },
      "source": [
        "# Preparação do ambiente\n",
        "Preparação do ambiente para executar o gensim."
      ]
    },
    {
      "cell_type": "markdown",
      "metadata": {
        "id": "XMH26PhNvKL8"
      },
      "source": [
        "##Tratamento de logs"
      ]
    },
    {
      "cell_type": "code",
      "metadata": {
        "id": "EErQkgK_vOH6"
      },
      "source": [
        "#Biblioteca de logging\n",
        "import logging\n",
        "\n",
        "#Formato da mensagem\n",
        "logging.basicConfig(format='%(asctime)s : %(levelname)s : %(message)s', level=logging.INFO)"
      ],
      "execution_count": null,
      "outputs": []
    },
    {
      "cell_type": "markdown",
      "metadata": {
        "id": "PSC3rLgHBIUN"
      },
      "source": [
        "## Parâmetros\n",
        "Parâmetros da execução do teste"
      ]
    },
    {
      "cell_type": "code",
      "metadata": {
        "id": "B0ILwzTiBL3w",
        "outputId": "9690be9c-791a-4217-897a-f39b2dffcf2c",
        "colab": {
          "base_uri": "https://localhost:8080/",
          "height": 34
        }
      },
      "source": [
        "#Id do arquivo no Google Drive\n",
        "idArquivo = '0B7XkCwpI5KDYNlNUTTlSS21pQmM'\n",
        "\n",
        "#Definição do nome do arquivo compactado do modelo\n",
        "arquivoModeloCompactado = 'GoogleNews-vectors-negative300.bin.gz'\n",
        "\n",
        "#Definição do nome do arquivo do modelo\n",
        "arquivoModelo = 'GoogleNews-vectors-negative300.bin.gz'\n",
        "\n",
        "logging.info('Parâmetros definidos!')"
      ],
      "execution_count": null,
      "outputs": [
        {
          "output_type": "stream",
          "text": [
            "2020-10-09 11:25:32,173 : INFO : Parâmetros definidos!\n"
          ],
          "name": "stderr"
        }
      ]
    },
    {
      "cell_type": "markdown",
      "metadata": {
        "id": "ZxFiqbpPQ-CR"
      },
      "source": [
        "##Instalação"
      ]
    },
    {
      "cell_type": "markdown",
      "metadata": {
        "id": "HdjN6H6t_L08"
      },
      "source": [
        "Instalando o gensim no Google Colaboratory.\n",
        "\n",
        "No Jupiter Notebook executar através \"Anaconda Prompt\".\n"
      ]
    },
    {
      "cell_type": "code",
      "metadata": {
        "id": "BGFVnIzQGrEH",
        "outputId": "b53b283e-c737-4446-f39e-295e0aa2e225",
        "colab": {
          "base_uri": "https://localhost:8080/",
          "height": 326
        }
      },
      "source": [
        "pip install -U gensim"
      ],
      "execution_count": null,
      "outputs": [
        {
          "output_type": "stream",
          "text": [
            "Collecting gensim\n",
            "\u001b[?25l  Downloading https://files.pythonhosted.org/packages/2b/e0/fa6326251692056dc880a64eb22117e03269906ba55a6864864d24ec8b4e/gensim-3.8.3-cp36-cp36m-manylinux1_x86_64.whl (24.2MB)\n",
            "\u001b[K     |████████████████████████████████| 24.2MB 172kB/s \n",
            "\u001b[?25hRequirement already satisfied, skipping upgrade: smart-open>=1.8.1 in /usr/local/lib/python3.6/dist-packages (from gensim) (2.2.0)\n",
            "Requirement already satisfied, skipping upgrade: six>=1.5.0 in /usr/local/lib/python3.6/dist-packages (from gensim) (1.15.0)\n",
            "Requirement already satisfied, skipping upgrade: scipy>=0.18.1 in /usr/local/lib/python3.6/dist-packages (from gensim) (1.4.1)\n",
            "Requirement already satisfied, skipping upgrade: numpy>=1.11.3 in /usr/local/lib/python3.6/dist-packages (from gensim) (1.18.5)\n",
            "Requirement already satisfied, skipping upgrade: requests in /usr/local/lib/python3.6/dist-packages (from smart-open>=1.8.1->gensim) (2.23.0)\n",
            "Requirement already satisfied, skipping upgrade: certifi>=2017.4.17 in /usr/local/lib/python3.6/dist-packages (from requests->smart-open>=1.8.1->gensim) (2020.6.20)\n",
            "Requirement already satisfied, skipping upgrade: idna<3,>=2.5 in /usr/local/lib/python3.6/dist-packages (from requests->smart-open>=1.8.1->gensim) (2.10)\n",
            "Requirement already satisfied, skipping upgrade: urllib3!=1.25.0,!=1.25.1,<1.26,>=1.21.1 in /usr/local/lib/python3.6/dist-packages (from requests->smart-open>=1.8.1->gensim) (1.24.3)\n",
            "Requirement already satisfied, skipping upgrade: chardet<4,>=3.0.2 in /usr/local/lib/python3.6/dist-packages (from requests->smart-open>=1.8.1->gensim) (3.0.4)\n",
            "Installing collected packages: gensim\n",
            "  Found existing installation: gensim 3.6.0\n",
            "    Uninstalling gensim-3.6.0:\n",
            "      Successfully uninstalled gensim-3.6.0\n",
            "Successfully installed gensim-3.8.3\n"
          ],
          "name": "stdout"
        }
      ]
    },
    {
      "cell_type": "markdown",
      "metadata": {
        "id": "VllbOXBWGOkz"
      },
      "source": [
        "Instando o PyDrive no Google Colaboratory.\n",
        "\n",
        "No Jupiter Notebook executar através \"Anaconda Prompt\".\n",
        "\n",
        "PyDrive é uma biblioteca de manipulação de arquivos para o google drive.<br>\n",
        "\n",
        "https://colab.research.google.com/notebooks/io.ipynb#scrollTo=7taylj9wpsA2"
      ]
    },
    {
      "cell_type": "code",
      "metadata": {
        "id": "fk0Ti1JwGMJw",
        "outputId": "eb3acd73-20bf-4a21-eb4f-25c23d3bf220",
        "colab": {
          "base_uri": "https://localhost:8080/",
          "height": 275
        }
      },
      "source": [
        " pip install PyDrive"
      ],
      "execution_count": null,
      "outputs": [
        {
          "output_type": "stream",
          "text": [
            "Requirement already satisfied: PyDrive in /usr/local/lib/python3.6/dist-packages (1.3.1)\n",
            "Requirement already satisfied: google-api-python-client>=1.2 in /usr/local/lib/python3.6/dist-packages (from PyDrive) (1.7.12)\n",
            "Requirement already satisfied: oauth2client>=4.0.0 in /usr/local/lib/python3.6/dist-packages (from PyDrive) (4.1.3)\n",
            "Requirement already satisfied: PyYAML>=3.0 in /usr/local/lib/python3.6/dist-packages (from PyDrive) (3.13)\n",
            "Requirement already satisfied: six<2dev,>=1.6.1 in /usr/local/lib/python3.6/dist-packages (from google-api-python-client>=1.2->PyDrive) (1.15.0)\n",
            "Requirement already satisfied: google-auth-httplib2>=0.0.3 in /usr/local/lib/python3.6/dist-packages (from google-api-python-client>=1.2->PyDrive) (0.0.4)\n",
            "Requirement already satisfied: httplib2<1dev,>=0.17.0 in /usr/local/lib/python3.6/dist-packages (from google-api-python-client>=1.2->PyDrive) (0.17.4)\n",
            "Requirement already satisfied: google-auth>=1.4.1 in /usr/local/lib/python3.6/dist-packages (from google-api-python-client>=1.2->PyDrive) (1.17.2)\n",
            "Requirement already satisfied: uritemplate<4dev,>=3.0.0 in /usr/local/lib/python3.6/dist-packages (from google-api-python-client>=1.2->PyDrive) (3.0.1)\n",
            "Requirement already satisfied: rsa>=3.1.4 in /usr/local/lib/python3.6/dist-packages (from oauth2client>=4.0.0->PyDrive) (4.6)\n",
            "Requirement already satisfied: pyasn1-modules>=0.0.5 in /usr/local/lib/python3.6/dist-packages (from oauth2client>=4.0.0->PyDrive) (0.2.8)\n",
            "Requirement already satisfied: pyasn1>=0.1.7 in /usr/local/lib/python3.6/dist-packages (from oauth2client>=4.0.0->PyDrive) (0.4.8)\n",
            "Requirement already satisfied: cachetools<5.0,>=2.0.0 in /usr/local/lib/python3.6/dist-packages (from google-auth>=1.4.1->google-api-python-client>=1.2->PyDrive) (4.1.1)\n",
            "Requirement already satisfied: setuptools>=40.3.0 in /usr/local/lib/python3.6/dist-packages (from google-auth>=1.4.1->google-api-python-client>=1.2->PyDrive) (50.3.0)\n"
          ],
          "name": "stdout"
        }
      ]
    },
    {
      "cell_type": "markdown",
      "metadata": {
        "id": "6QCnOoFQQ2vC"
      },
      "source": [
        "## Bibliotecas"
      ]
    },
    {
      "cell_type": "markdown",
      "metadata": {
        "id": "6DIZk3mqHXCx"
      },
      "source": [
        "Importando as bibliotecas de manipulação de dos arquivos pydrive.<br>\n",
        "https://gsuitedevs.github.io/PyDrive/docs/build/html/index.html#\n"
      ]
    },
    {
      "cell_type": "code",
      "metadata": {
        "id": "c6HjlNU2HXNl",
        "outputId": "6635d201-7d18-4908-b3c0-1045ba195953",
        "colab": {
          "base_uri": "https://localhost:8080/",
          "height": 34
        }
      },
      "source": [
        "from pydrive.auth import GoogleAuth\n",
        "from pydrive.drive import GoogleDrive\n",
        "from oauth2client.client import GoogleCredentials\n",
        "\n",
        "#Biblioteca para autenticar o usuário\n",
        "from google.colab import auth\n",
        "\n",
        "#Biblioteca para acessar o sistema de arquivos\n",
        "import os\n",
        "\n",
        "logging.info('Import realizado!')"
      ],
      "execution_count": null,
      "outputs": [
        {
          "output_type": "stream",
          "text": [
            "2020-10-09 11:25:44,260 : INFO : Import realizado!\n"
          ],
          "name": "stderr"
        }
      ]
    },
    {
      "cell_type": "markdown",
      "metadata": {
        "id": "W3cS4Hxf3KO9"
      },
      "source": [
        "## Autenticação do usuário"
      ]
    },
    {
      "cell_type": "markdown",
      "metadata": {
        "id": "4NSLp_RoCVaY"
      },
      "source": [
        "O usuário precisar conceder  permissão para o **Google Cloud SDK** acessar o seu Google Colaboratory.\n",
        "\n",
        "Copie o código de autorização da URL apresentada na janela aberta e copie e cole na caixa do código de autorização."
      ]
    },
    {
      "cell_type": "code",
      "metadata": {
        "id": "07hYBgqUCZ22"
      },
      "source": [
        "auth.authenticate_user()\n",
        "gauth = GoogleAuth()\n",
        "gauth.credentials = GoogleCredentials.get_application_default()\n",
        "drive = GoogleDrive(gauth)"
      ],
      "execution_count": null,
      "outputs": []
    },
    {
      "cell_type": "markdown",
      "metadata": {
        "id": "6YvLDlUF3YBS"
      },
      "source": [
        "## Download\n",
        "Para usar o Gensim, você pode criar o seu vetor de palavras e treiná-lo ou utilizar um dataset previamente treinado.\n",
        "Neste apresentação utilizamos o dataset fornecido  em https://github.com/3Top/word2vec-api.<br>\n",
        "São dados do Google News com:<br>\n",
        "*   300 dimensões\n",
        "*   3M vocabulário\n"
      ]
    },
    {
      "cell_type": "markdown",
      "metadata": {
        "id": "l9bh_DHuAeEA"
      },
      "source": [
        "Link do arquivo no google drive:\n",
        "https://drive.google.com/open?id=0B7XkCwpI5KDYNlNUTTlSS21pQmM<br>\n",
        "\n",
        "O arquivo do download será colocado na pasta \"**/content**\" do Google Colaboratory.<br> Opcionalmente pode ser feito o download para uma pasta no Google Drive. Neste casou é necessário montar uma pasta no Google Drive no Google Colaboratory para receber o arquivo.<br>\n",
        "\n",
        "Este arquivo do modelo não precisa ser descompactado."
      ]
    },
    {
      "cell_type": "code",
      "metadata": {
        "id": "xAjQyg2DeBZK",
        "outputId": "bec40e1a-d814-4c25-bdb9-23857bba142d",
        "colab": {
          "base_uri": "https://localhost:8080/",
          "height": 598
        }
      },
      "source": [
        "#Verifica se o arquivo do modelo existe\n",
        "if not os.path.exists(arquivoModeloCompactado):  \n",
        "    #Realiza o download do arquivo\n",
        "    downloaded = drive.CreateFile({'id':idArquivo})\n",
        "\n",
        "    #Salva o arquivo no diretório 'content' do colab\n",
        "    downloaded.GetContentFile(arquivoModeloCompactado)\n",
        "\n",
        "    logging.info('Arquivo {0} baixado'.format(arquivoModeloCompactado))\n",
        "else:\n",
        "    logging.info('Arquivo {0} já existe'.format(arquivoModeloCompactado))"
      ],
      "execution_count": null,
      "outputs": [
        {
          "output_type": "stream",
          "text": [
            "2020-10-09 11:26:13,071 : WARNING : file_cache is unavailable when using oauth2client >= 4.0.0 or google-auth\n",
            "Traceback (most recent call last):\n",
            "  File \"/usr/local/lib/python3.6/dist-packages/googleapiclient/discovery_cache/__init__.py\", line 36, in autodetect\n",
            "    from google.appengine.api import memcache\n",
            "ModuleNotFoundError: No module named 'google.appengine'\n",
            "\n",
            "During handling of the above exception, another exception occurred:\n",
            "\n",
            "Traceback (most recent call last):\n",
            "  File \"/usr/local/lib/python3.6/dist-packages/googleapiclient/discovery_cache/file_cache.py\", line 33, in <module>\n",
            "    from oauth2client.contrib.locked_file import LockedFile\n",
            "ModuleNotFoundError: No module named 'oauth2client.contrib.locked_file'\n",
            "\n",
            "During handling of the above exception, another exception occurred:\n",
            "\n",
            "Traceback (most recent call last):\n",
            "  File \"/usr/local/lib/python3.6/dist-packages/googleapiclient/discovery_cache/file_cache.py\", line 37, in <module>\n",
            "    from oauth2client.locked_file import LockedFile\n",
            "ModuleNotFoundError: No module named 'oauth2client.locked_file'\n",
            "\n",
            "During handling of the above exception, another exception occurred:\n",
            "\n",
            "Traceback (most recent call last):\n",
            "  File \"/usr/local/lib/python3.6/dist-packages/googleapiclient/discovery_cache/__init__.py\", line 42, in autodetect\n",
            "    from . import file_cache\n",
            "  File \"/usr/local/lib/python3.6/dist-packages/googleapiclient/discovery_cache/file_cache.py\", line 41, in <module>\n",
            "    \"file_cache is unavailable when using oauth2client >= 4.0.0 or google-auth\"\n",
            "ImportError: file_cache is unavailable when using oauth2client >= 4.0.0 or google-auth\n",
            "2020-10-09 11:26:13,075 : INFO : URL being requested: GET https://www.googleapis.com/discovery/v1/apis/drive/v2/rest\n",
            "2020-10-09 11:26:13,079 : INFO : Attempting refresh to obtain initial access_token\n",
            "2020-10-09 11:26:13,080 : INFO : Refreshing access_token\n",
            "2020-10-09 11:26:13,200 : INFO : URL being requested: GET https://www.googleapis.com/drive/v2/files/0B7XkCwpI5KDYNlNUTTlSS21pQmM?alt=json\n",
            "2020-10-09 11:26:37,201 : INFO : Arquivo GoogleNews-vectors-negative300.bin.gz baixado\n"
          ],
          "name": "stderr"
        }
      ]
    },
    {
      "cell_type": "markdown",
      "metadata": {
        "id": "04YZoMubb8BA"
      },
      "source": [
        "Mostra o diretório corrente e seus arquivos."
      ]
    },
    {
      "cell_type": "code",
      "metadata": {
        "id": "NKX9Egn0b8jw",
        "outputId": "f12f6a7b-91d0-44bf-a703-a6cf82fc9987",
        "colab": {
          "base_uri": "https://localhost:8080/",
          "height": 153
        }
      },
      "source": [
        "!pwd\n",
        "!ls -la"
      ],
      "execution_count": null,
      "outputs": [
        {
          "output_type": "stream",
          "text": [
            "/content\n",
            "total 1608476\n",
            "drwxr-xr-x 1 root root       4096 Oct  9 11:26 .\n",
            "drwxr-xr-x 1 root root       4096 Oct  9 11:06 ..\n",
            "-rw-r--r-- 1 root root       2676 Oct  9 11:26 adc.json\n",
            "drwxr-xr-x 1 root root       4096 Oct  9 11:26 .config\n",
            "-rw-r--r-- 1 root root 1647046227 Oct  9 11:26 GoogleNews-vectors-negative300.bin.gz\n",
            "drwxr-xr-x 1 root root       4096 Oct  5 16:31 sample_data\n"
          ],
          "name": "stdout"
        }
      ]
    },
    {
      "cell_type": "markdown",
      "metadata": {
        "id": "pKsUkX9c3gLj"
      },
      "source": [
        "# Prepara o modelo\n",
        "Carrega as bibliotecas e modelo pré treinado para executar os exemplos."
      ]
    },
    {
      "cell_type": "markdown",
      "metadata": {
        "id": "gbz-JcsZSARV"
      },
      "source": [
        "##Importando as bibliotecas do Gensim\n",
        "Importa as biblitecas do Gensim para carregar o modelo pré treinado."
      ]
    },
    {
      "cell_type": "code",
      "metadata": {
        "id": "oN7EnHE8OzLj",
        "outputId": "7b3716b7-5ce9-4d5c-9a22-da5eb244c630",
        "colab": {
          "base_uri": "https://localhost:8080/",
          "height": 34
        }
      },
      "source": [
        "from IPython.display import display, HTML\n",
        "from jinja2 import Template\n",
        "\n",
        "import warnings\n",
        "warnings.filterwarnings('ignore')\n",
        "\n",
        "import numpy as np  \n",
        "import gensim\n",
        "from gensim.models import Word2Vec\n",
        "\n",
        "logging.info('Import realizado!')"
      ],
      "execution_count": null,
      "outputs": [
        {
          "output_type": "stream",
          "text": [
            "2020-10-09 11:26:42,635 : INFO : Import realizado!\n"
          ],
          "name": "stderr"
        }
      ]
    },
    {
      "cell_type": "markdown",
      "metadata": {
        "id": "FdRH342u3ueb"
      },
      "source": [
        "##Carregando o modelo"
      ]
    },
    {
      "cell_type": "markdown",
      "metadata": {
        "id": "Ysl3AA3sPPJK"
      },
      "source": [
        "Carregando o modelo do arquivo compactado."
      ]
    },
    {
      "cell_type": "code",
      "metadata": {
        "id": "k_OBA_XSPRJw",
        "outputId": "43203f58-827a-4777-805c-b1424adc7374",
        "colab": {
          "base_uri": "https://localhost:8080/",
          "height": 68
        }
      },
      "source": [
        "model = gensim.models.KeyedVectors.load_word2vec_format(arquivoModeloCompactado, binary=True)\n",
        "logging.info('Modelo carregado!')"
      ],
      "execution_count": null,
      "outputs": [
        {
          "output_type": "stream",
          "text": [
            "2020-10-09 11:26:42,643 : INFO : loading projection weights from GoogleNews-vectors-negative300.bin.gz\n",
            "2020-10-09 11:27:35,549 : INFO : loaded (3000000, 300) matrix from GoogleNews-vectors-negative300.bin.gz\n",
            "2020-10-09 11:27:35,550 : INFO : Modelo carregado!\n"
          ],
          "name": "stderr"
        }
      ]
    },
    {
      "cell_type": "markdown",
      "metadata": {
        "id": "7SpWla9ZPcSs"
      },
      "source": [
        "Mostra alguns dados do modelo carregado."
      ]
    },
    {
      "cell_type": "code",
      "metadata": {
        "id": "7fvMeXqkPB4Z",
        "outputId": "5529e365-3d3f-410e-e89b-c12ed6ac30ca",
        "colab": {
          "base_uri": "https://localhost:8080/",
          "height": 51
        }
      },
      "source": [
        "print(model)\n",
        "print('Word2Vec(vocab='+str(len(model.wv.vocab))+', size='+ str(model.wv.vectors.shape)+')')"
      ],
      "execution_count": null,
      "outputs": [
        {
          "output_type": "stream",
          "text": [
            "<gensim.models.keyedvectors.Word2VecKeyedVectors object at 0x7f03356f9be0>\n",
            "Word2Vec(vocab=3000000, size=(3000000, 300))\n"
          ],
          "name": "stdout"
        }
      ]
    },
    {
      "cell_type": "markdown",
      "metadata": {
        "id": "usTrFwo4r-vm"
      },
      "source": [
        "Mostra os dados da palavra king.\n",
        "\n",
        "Mensagem se não tiver memória suficiente para carregar o modelo:<br>\n",
        "**MemoryError: Unable to allocate 3.35 GiB for an array with shape (3000000, 300) and data type float32**"
      ]
    },
    {
      "cell_type": "code",
      "metadata": {
        "id": "NsZ9OoITsCjp",
        "outputId": "94307538-4f64-42c6-f48f-bb4ea76c6280",
        "colab": {
          "base_uri": "https://localhost:8080/",
          "height": 204
        }
      },
      "source": [
        "model.most_similar('king')"
      ],
      "execution_count": null,
      "outputs": [
        {
          "output_type": "stream",
          "text": [
            "2020-10-09 11:27:35,565 : INFO : precomputing L2-norms of word weight vectors\n"
          ],
          "name": "stderr"
        },
        {
          "output_type": "execute_result",
          "data": {
            "text/plain": [
              "[('kings', 0.7138046026229858),\n",
              " ('queen', 0.6510956883430481),\n",
              " ('monarch', 0.6413194537162781),\n",
              " ('crown_prince', 0.6204220056533813),\n",
              " ('prince', 0.6159993410110474),\n",
              " ('sultan', 0.5864822864532471),\n",
              " ('ruler', 0.5797567367553711),\n",
              " ('princes', 0.5646552443504333),\n",
              " ('Prince_Paras', 0.543294370174408),\n",
              " ('throne', 0.5422104597091675)]"
            ]
          },
          "metadata": {
            "tags": []
          },
          "execution_count": 12
        }
      ]
    },
    {
      "cell_type": "markdown",
      "metadata": {
        "id": "s63NMHN-3-AK"
      },
      "source": [
        "##Função de apresentação dos dados\n",
        "Função para melhorar a apresentação dos dados dos exemplos."
      ]
    },
    {
      "cell_type": "code",
      "metadata": {
        "id": "5iVDsYpYQiuW",
        "outputId": "9c8d9b77-0a8c-4155-f684-3db6979922a3",
        "colab": {
          "base_uri": "https://localhost:8080/",
          "height": 34
        }
      },
      "source": [
        "table_list_template = \"\"\" \n",
        "<table> \n",
        "        <tr>  \n",
        "           <th>Palavra</th>   \n",
        "           <th>Similaridade</th>   \n",
        "        </tr>  \n",
        "        {% for item in items%}  \n",
        "        <TR>     \n",
        "           <TD class=\"c1\">{{item[0]}}</TD>     \n",
        "           <TD class=\"c2\">{{item[1]}}</TD>   \n",
        "        </TR>   \n",
        "        {% endfor %}\n",
        "</table> \n",
        "\"\"\"\n",
        "def most_similar(positive, negative):\n",
        "    nn = model.most_similar(positive=positive, negative=negative)\n",
        "    tmpl = Template(table_list_template)\n",
        "    output_html = tmpl.render(items=nn)\n",
        "    return HTML(output_html)\n",
        "\n",
        "logging.info('Função criada')"
      ],
      "execution_count": null,
      "outputs": [
        {
          "output_type": "stream",
          "text": [
            "2020-10-09 11:27:41,470 : INFO : Função criada\n"
          ],
          "name": "stderr"
        }
      ]
    },
    {
      "cell_type": "markdown",
      "metadata": {
        "id": "3ik0m91YSiwn"
      },
      "source": [
        "# Exemplos"
      ]
    },
    {
      "cell_type": "markdown",
      "metadata": {
        "id": "Pv3x2kEhXKOu"
      },
      "source": [
        "**DICA**:<br>\n",
        "Para palavras com sinais léxicos, utilizar o caractere \"**u**\" antes da mesma para codifica-la como utf-8.\n"
      ]
    },
    {
      "cell_type": "markdown",
      "metadata": {
        "id": "MRAzd11ZGE4o"
      },
      "source": [
        "## Comparando palavras diferentes"
      ]
    },
    {
      "cell_type": "markdown",
      "metadata": {
        "id": "BjXmJYYTXaoa"
      },
      "source": [
        "King + Woman – Man = ?"
      ]
    },
    {
      "cell_type": "code",
      "metadata": {
        "id": "gOiNNbclQyK9",
        "outputId": "8756a77a-61f5-457c-8ff2-ce31fb3d9544",
        "colab": {
          "base_uri": "https://localhost:8080/",
          "height": 250
        }
      },
      "source": [
        "most_similar(positive=['king','woman'], negative=['man'])\n"
      ],
      "execution_count": null,
      "outputs": [
        {
          "output_type": "execute_result",
          "data": {
            "text/html": [
              " \n",
              "<table> \n",
              "        <tr>  \n",
              "           <th>Palavra</th>   \n",
              "           <th>Similaridade</th>   \n",
              "        </tr>  \n",
              "          \n",
              "        <TR>     \n",
              "           <TD class=\"c1\">queen</TD>     \n",
              "           <TD class=\"c2\">0.7118192911148071</TD>   \n",
              "        </TR>   \n",
              "          \n",
              "        <TR>     \n",
              "           <TD class=\"c1\">monarch</TD>     \n",
              "           <TD class=\"c2\">0.6189674139022827</TD>   \n",
              "        </TR>   \n",
              "          \n",
              "        <TR>     \n",
              "           <TD class=\"c1\">princess</TD>     \n",
              "           <TD class=\"c2\">0.5902431011199951</TD>   \n",
              "        </TR>   \n",
              "          \n",
              "        <TR>     \n",
              "           <TD class=\"c1\">crown_prince</TD>     \n",
              "           <TD class=\"c2\">0.5499460697174072</TD>   \n",
              "        </TR>   \n",
              "          \n",
              "        <TR>     \n",
              "           <TD class=\"c1\">prince</TD>     \n",
              "           <TD class=\"c2\">0.5377321243286133</TD>   \n",
              "        </TR>   \n",
              "          \n",
              "        <TR>     \n",
              "           <TD class=\"c1\">kings</TD>     \n",
              "           <TD class=\"c2\">0.5236844420433044</TD>   \n",
              "        </TR>   \n",
              "          \n",
              "        <TR>     \n",
              "           <TD class=\"c1\">Queen_Consort</TD>     \n",
              "           <TD class=\"c2\">0.5235945582389832</TD>   \n",
              "        </TR>   \n",
              "          \n",
              "        <TR>     \n",
              "           <TD class=\"c1\">queens</TD>     \n",
              "           <TD class=\"c2\">0.518113374710083</TD>   \n",
              "        </TR>   \n",
              "          \n",
              "        <TR>     \n",
              "           <TD class=\"c1\">sultan</TD>     \n",
              "           <TD class=\"c2\">0.5098593235015869</TD>   \n",
              "        </TR>   \n",
              "          \n",
              "        <TR>     \n",
              "           <TD class=\"c1\">monarchy</TD>     \n",
              "           <TD class=\"c2\">0.5087411999702454</TD>   \n",
              "        </TR>   \n",
              "        \n",
              "</table> "
            ],
            "text/plain": [
              "<IPython.core.display.HTML object>"
            ]
          },
          "metadata": {
            "tags": []
          },
          "execution_count": 14
        }
      ]
    },
    {
      "cell_type": "markdown",
      "metadata": {
        "id": "eSOaOjWOXjPo"
      },
      "source": [
        "Queen + Man – Woman = ?"
      ]
    },
    {
      "cell_type": "code",
      "metadata": {
        "id": "-srA-OejXm-n",
        "outputId": "771a75ac-b63a-40fb-fc0c-838114e84304",
        "colab": {
          "base_uri": "https://localhost:8080/",
          "height": 250
        }
      },
      "source": [
        "most_similar(positive=['queen','man'], negative=['woman'])"
      ],
      "execution_count": null,
      "outputs": [
        {
          "output_type": "execute_result",
          "data": {
            "text/html": [
              " \n",
              "<table> \n",
              "        <tr>  \n",
              "           <th>Palavra</th>   \n",
              "           <th>Similaridade</th>   \n",
              "        </tr>  \n",
              "          \n",
              "        <TR>     \n",
              "           <TD class=\"c1\">king</TD>     \n",
              "           <TD class=\"c2\">0.6958590149879456</TD>   \n",
              "        </TR>   \n",
              "          \n",
              "        <TR>     \n",
              "           <TD class=\"c1\">kings</TD>     \n",
              "           <TD class=\"c2\">0.5950952768325806</TD>   \n",
              "        </TR>   \n",
              "          \n",
              "        <TR>     \n",
              "           <TD class=\"c1\">queens</TD>     \n",
              "           <TD class=\"c2\">0.5838501453399658</TD>   \n",
              "        </TR>   \n",
              "          \n",
              "        <TR>     \n",
              "           <TD class=\"c1\">monarch</TD>     \n",
              "           <TD class=\"c2\">0.5398427248001099</TD>   \n",
              "        </TR>   \n",
              "          \n",
              "        <TR>     \n",
              "           <TD class=\"c1\">prince</TD>     \n",
              "           <TD class=\"c2\">0.5223615169525146</TD>   \n",
              "        </TR>   \n",
              "          \n",
              "        <TR>     \n",
              "           <TD class=\"c1\">princess</TD>     \n",
              "           <TD class=\"c2\">0.5175285935401917</TD>   \n",
              "        </TR>   \n",
              "          \n",
              "        <TR>     \n",
              "           <TD class=\"c1\">princes</TD>     \n",
              "           <TD class=\"c2\">0.49844634532928467</TD>   \n",
              "        </TR>   \n",
              "          \n",
              "        <TR>     \n",
              "           <TD class=\"c1\">royal</TD>     \n",
              "           <TD class=\"c2\">0.4924592971801758</TD>   \n",
              "        </TR>   \n",
              "          \n",
              "        <TR>     \n",
              "           <TD class=\"c1\">NYC_anglophiles_aflutter</TD>     \n",
              "           <TD class=\"c2\">0.4859851002693176</TD>   \n",
              "        </TR>   \n",
              "          \n",
              "        <TR>     \n",
              "           <TD class=\"c1\">Eugene_Ionesco_absurdist_comedy</TD>     \n",
              "           <TD class=\"c2\">0.4784241020679474</TD>   \n",
              "        </TR>   \n",
              "        \n",
              "</table> "
            ],
            "text/plain": [
              "<IPython.core.display.HTML object>"
            ]
          },
          "metadata": {
            "tags": []
          },
          "execution_count": 15
        }
      ]
    },
    {
      "cell_type": "markdown",
      "metadata": {
        "id": "g9d9Cw08s3Nt"
      },
      "source": [
        "Distância entre woman e man"
      ]
    },
    {
      "cell_type": "code",
      "metadata": {
        "id": "AdqGdkR9srqs",
        "outputId": "6284e742-c034-4b76-b24a-4b9fb2a73fc7",
        "colab": {
          "base_uri": "https://localhost:8080/",
          "height": 34
        }
      },
      "source": [
        "model.distance('woman', 'man')"
      ],
      "execution_count": null,
      "outputs": [
        {
          "output_type": "execute_result",
          "data": {
            "text/plain": [
              "0.2335987687110901"
            ]
          },
          "metadata": {
            "tags": []
          },
          "execution_count": 16
        }
      ]
    },
    {
      "cell_type": "markdown",
      "metadata": {
        "id": "fQyVREXYYEN6"
      },
      "source": [
        "# Plotando gráficos"
      ]
    },
    {
      "cell_type": "markdown",
      "metadata": {
        "id": "Ilmhkv4kYJFR"
      },
      "source": [
        "Para plotar um conjunto de palavras execute o script abaixo:"
      ]
    },
    {
      "cell_type": "code",
      "metadata": {
        "id": "QXw-7PWTYO5E",
        "outputId": "44e119c9-df1a-4061-9243-0618b39be4c1",
        "colab": {
          "base_uri": "https://localhost:8080/",
          "height": 34
        }
      },
      "source": [
        "from sklearn.decomposition import PCA\n",
        "from matplotlib import pyplot\n",
        "\n",
        "def plot_words(words):    \n",
        "    #Carrega o vetor das palavras a serem plotadas\n",
        "    vectors = []\n",
        "    for word in words:    \n",
        "         vectors.append(model[word])\n",
        "    #Ajustar um modelo 2D de PCA aos vetores\n",
        "    pca = PCA(n_components=2)\n",
        "    resultado = pca.fit_transform(vectors)\n",
        "    #Criar um gráfico de dispersão da projeção\n",
        "    pyplot.scatter(resultado[:, 0], resultado[:, 1])\n",
        "    #Adiciona as palavras no gráfico\n",
        "    for i in range(len(words)):\n",
        "        pyplot.annotate(words[i], xy=(resultado[i, 0], resultado[i, 1]))        \n",
        "    #Mostra o gráfico\n",
        "    pyplot.show()\n",
        "logging.info('Função criada')"
      ],
      "execution_count": null,
      "outputs": [
        {
          "output_type": "stream",
          "text": [
            "2020-10-09 11:27:42,437 : INFO : Função criada\n"
          ],
          "name": "stderr"
        }
      ]
    },
    {
      "cell_type": "markdown",
      "metadata": {
        "id": "rJrByAxMYSi4"
      },
      "source": [
        "O comando abaixo plota o gráfico das palavras especificadas."
      ]
    },
    {
      "cell_type": "code",
      "metadata": {
        "id": "QB-HhR64YSs5",
        "outputId": "558aeec9-9a5f-4345-c78d-131c9160792c",
        "colab": {
          "base_uri": "https://localhost:8080/",
          "height": 265
        }
      },
      "source": [
        "plot_words(['king', 'queen', 'man', 'woman', 'rich', 'poor', 'monarch', 'fisherman', 'teacher', 'actress', 'actor'])\n"
      ],
      "execution_count": null,
      "outputs": [
        {
          "output_type": "display_data",
          "data": {
            "image/png": "[encoded data removed]",
            "text/plain": [
              "<Figure size 432x288 with 1 Axes>"
            ]
          },
          "metadata": {
            "tags": [],
            "needs_background": "light"
          }
        }
      ]
    },
    {
      "cell_type": "markdown",
      "metadata": {
        "id": "9OOKFfegolpn"
      },
      "source": [
        "Lista as palavras do vocabulário"
      ]
    },
    {
      "cell_type": "code",
      "metadata": {
        "id": "_olGNOzqoPeI",
        "outputId": "c1bd73af-9cf5-4057-9a14-21c3cdf99511",
        "colab": {
          "base_uri": "https://localhost:8080/",
          "height": 187
        }
      },
      "source": [
        "words = list(model.wv.vocab)\n",
        "print(words)"
      ],
      "execution_count": null,
      "outputs": [
        {
          "output_type": "stream",
          "text": [
            "IOPub data rate exceeded.\n",
            "The notebook server will temporarily stop sending output\n",
            "to the client in order to avoid crashing it.\n",
            "To change this limit, set the config variable\n",
            "`--NotebookApp.iopub_data_rate_limit`.\n",
            "\n",
            "Current values:\n",
            "NotebookApp.iopub_data_rate_limit=1000000.0 (bytes/sec)\n",
            "NotebookApp.rate_limit_window=3.0 (secs)\n",
            "\n"
          ],
          "name": "stderr"
        }
      ]
    },
    {
      "cell_type": "markdown",
      "metadata": {
        "id": "usb3NJryE-rM"
      },
      "source": [
        "##Visualizando o modelo\n",
        "\n",
        "Aqui tentamos visualizar a conexão entre as seguintes palavras em um subespaço 2D"
      ]
    },
    {
      "cell_type": "markdown",
      "metadata": {
        "id": "BndfpQLoX9N5"
      },
      "source": [
        "### Função de visualização"
      ]
    },
    {
      "cell_type": "code",
      "metadata": {
        "id": "uPyzH46kV5_b",
        "outputId": "a8daabd1-3487-4424-a6dd-60c2f8068c90",
        "colab": {
          "base_uri": "https://localhost:8080/",
          "height": 34
        }
      },
      "source": [
        "#Import das bibliotecas\n",
        "import numpy as np\n",
        "import matplotlib.pyplot as plt\n",
        "%matplotlib inline\n",
        "\n",
        "def plotar_words(Wl):\n",
        "    #Carrega o vetor das palavras a serem plotadas\n",
        "    Wv = []\n",
        "    for i in range(len(Wl)):\n",
        "       Wv.append(model[Wl[i]])\n",
        "\n",
        "    #Queremos um subespaço onde Wv[0]-Wv[1] e Wv[2]-Wv[3] sejam as linhas do eixo, \n",
        "    #então essas 4 palavras estão no eixo correspondente\n",
        "    b1 = (Wv[1]-Wv[0])\n",
        "    b2 = (Wv[3]-Wv[2])\n",
        "\n",
        "    #Transforma a lista de embeddings em um vetor simples\n",
        "    W = np.array(Wv)\n",
        "    #Transforma as diferenças em um vetor simples\n",
        "    B = np.array([b1,b2])\n",
        "    #Calcula o pseudo-inversa de uma matriz\n",
        "    Bi = np.linalg.pinv(B.T)\n",
        "\n",
        "    #Multiplica Bi e W.T\n",
        "    Wp = np.matmul(Bi,W.T)\n",
        "    #Calcula os pivos\n",
        "    Wp = (Wp.T-[Wp[0,2],Wp[1,0]]).T\n",
        "\n",
        "    #Dimensões da figura\n",
        "    plt.figure(figsize=(12,7))\n",
        "    #Adiciona linha vertical\n",
        "    plt.axvline()\n",
        "    #Adiciona linha horizontal\n",
        "    plt.axhline()\n",
        "    #Criar um gráfico de dispersão da projeção\n",
        "    plt.scatter(Wp[0,:], Wp[1,:])\n",
        "    rX = max(Wp[0,:])-min(Wp[0,:])\n",
        "    rY = max(Wp[1,:])-min(Wp[1,:])\n",
        "    eps = 0.005\n",
        "    #Adiciona as palavras no gráfico\n",
        "    for i, txt in enumerate(Wl):\n",
        "        plt.annotate(txt, (Wp[0,i]+rX*eps, Wp[1,i]+rX*eps))\n",
        "    #Mostra o gráfico\n",
        "    plt.show()\n",
        "\n",
        "logging.info('Função criada')"
      ],
      "execution_count": null,
      "outputs": [
        {
          "output_type": "stream",
          "text": [
            "2020-10-09 11:27:44,109 : INFO : Função criada\n"
          ],
          "name": "stderr"
        }
      ]
    },
    {
      "cell_type": "markdown",
      "metadata": {
        "id": "UZ_xb5rVYB97"
      },
      "source": [
        "#### Exemplo"
      ]
    },
    {
      "cell_type": "code",
      "metadata": {
        "id": "CKozLghgX02s",
        "outputId": "d55d8aaf-6d1b-4934-8959-b9a29460f9a5",
        "colab": {
          "base_uri": "https://localhost:8080/",
          "height": 428
        }
      },
      "source": [
        "Wl = ['king', 'queen', 'man', 'woman', 'rich', 'poor', 'monarch', 'fisherman', 'teacher', 'actress', 'actor']\n",
        "\n",
        "plotar_words(Wl)"
      ],
      "execution_count": null,
      "outputs": [
        {
          "output_type": "display_data",
          "data": {
            "image/png": "[encoded data removed]",
            "text/plain": [
              "<Figure size 864x504 with 1 Axes>"
            ]
          },
          "metadata": {
            "tags": [],
            "needs_background": "light"
          }
        }
      ]
    },
    {
      "cell_type": "markdown",
      "metadata": {
        "id": "YW9pN7oyYGna"
      },
      "source": [
        "#### Detalhamento da função"
      ]
    },
    {
      "cell_type": "markdown",
      "metadata": {
        "id": "aFp8RcMaYLG7"
      },
      "source": [
        "Import das bibliotecas"
      ]
    },
    {
      "cell_type": "code",
      "metadata": {
        "id": "DGd9EBrlE-rV"
      },
      "source": [
        "#Import das bibliotecas\n",
        "import numpy as np\n",
        "\n",
        "import matplotlib.pyplot as plt\n",
        "%matplotlib inline"
      ],
      "execution_count": null,
      "outputs": []
    },
    {
      "cell_type": "markdown",
      "metadata": {
        "id": "EYtXDyYkYSb6"
      },
      "source": [
        "Lista de palavras a serem visualizadas"
      ]
    },
    {
      "cell_type": "code",
      "metadata": {
        "id": "Xpgwf5CvE-rY"
      },
      "source": [
        "#Lista das palavras\n",
        "Wl = ['king', 'queen', 'man', 'woman', 'rich', 'poor', 'monarch', 'fisherman', 'teacher', 'actress', 'actor']\n",
        "\n",
        "#Lista dos embeddings das palavras\n",
        "Wv = []\n",
        "for i in range(len(Wl)):\n",
        "    Wv.append(model[Wl[i]])"
      ],
      "execution_count": null,
      "outputs": []
    },
    {
      "cell_type": "markdown",
      "metadata": {
        "id": "W0H-bW1SE-rb"
      },
      "source": [
        "Queremos um subespaço onde rei-rainha e homem-mulher são as linhas do eixo, então essas 4 palavras estão no eixo correspondente\n",
        "\n",
        "\n"
      ]
    },
    {
      "cell_type": "code",
      "metadata": {
        "id": "sc7eUJp5E-rb"
      },
      "source": [
        "#Diferença de Wv[1]-Wv[0]\n",
        "b1 = (Wv[1]-Wv[0])\n",
        "#Diferença de Wv[3]-Wv[2]\n",
        "b2 = (Wv[3]-Wv[2])"
      ],
      "execution_count": null,
      "outputs": []
    },
    {
      "cell_type": "markdown",
      "metadata": {
        "id": "dDrramPEE-rd"
      },
      "source": [
        "Queremos que a base seja (1,0) e (0,1) do espaço projetado. Com uma matriz quadrada, devemos calcular a matriz inversa para obter os vetores base. No entanto, a matriz não quadrada tem apenas pseudo-inversa."
      ]
    },
    {
      "cell_type": "code",
      "metadata": {
        "id": "bSFHcWtlE-re"
      },
      "source": [
        "#Transforma a lista de embeddings em um vetor simples\n",
        "W = np.array(Wv)\n",
        "#Transforma as diferenças em um vetor simples\n",
        "B = np.array([b1,b2])\n",
        "#Calcula o pseudo-inversa de uma matriz\n",
        "Bi = np.linalg.pinv(B.T)"
      ],
      "execution_count": null,
      "outputs": []
    },
    {
      "cell_type": "code",
      "metadata": {
        "id": "fOmdjaNbE-rj",
        "outputId": "42298c43-ce67-4f3e-d444-25c2a5b31f49",
        "colab": {
          "base_uri": "https://localhost:8080/",
          "height": 51
        }
      },
      "source": [
        "#Mostra as dimensões de B e W\n",
        "print(B.shape)\n",
        "print(W.T.shape)"
      ],
      "execution_count": null,
      "outputs": [
        {
          "output_type": "stream",
          "text": [
            "(2, 300)\n",
            "(300, 11)\n"
          ],
          "name": "stdout"
        }
      ]
    },
    {
      "cell_type": "markdown",
      "metadata": {
        "id": "s7bWay05E-rl"
      },
      "source": [
        "Projete todas as incorporações de palavras no subespaço 2D.\n",
        "\n",
        "  Temos que mudar as linhas rei-rainha e homem-mulher para o eixo."
      ]
    },
    {
      "cell_type": "code",
      "metadata": {
        "id": "aYE-15W4E-rm",
        "outputId": "f2d12fa9-97b3-4ce4-bb8b-76c8f468d426",
        "colab": {
          "base_uri": "https://localhost:8080/",
          "height": 34
        }
      },
      "source": [
        "#Multiplica Bi e W.T\n",
        "Wp = np.matmul(Bi,W.T)\n",
        "print(Wp.shape)\n",
        "#Calcula os pivos\n",
        "Wp = (Wp.T-[Wp[0,2],Wp[1,0]]).T"
      ],
      "execution_count": null,
      "outputs": [
        {
          "output_type": "stream",
          "text": [
            "(2, 11)\n"
          ],
          "name": "stdout"
        }
      ]
    },
    {
      "cell_type": "markdown",
      "metadata": {
        "id": "mbOHahhFE-ro"
      },
      "source": [
        "Vamos colocar as palavras no plano cartesiano!"
      ]
    },
    {
      "cell_type": "code",
      "metadata": {
        "id": "YJlqeIlPE-rp",
        "outputId": "114a5578-95df-4d7a-e9c6-630c7f899a4b",
        "colab": {
          "base_uri": "https://localhost:8080/",
          "height": 428
        }
      },
      "source": [
        "#Dimensões da figura\n",
        "plt.figure(figsize=(12,7))\n",
        "#Adiciona linha vertical\n",
        "plt.axvline()\n",
        "#Adiciona linha horizontal\n",
        "plt.axhline()\n",
        "#Plota eixo x e y\n",
        "plt.scatter(Wp[0,:], Wp[1,:])\n",
        "rX = max(Wp[0,:])-min(Wp[0,:])\n",
        "rY = max(Wp[1,:])-min(Wp[1,:])\n",
        "eps = 0.005\n",
        "#Percore a lista de palavras\n",
        "for i, txt in enumerate(Wl):\n",
        "    plt.annotate(txt, (Wp[0,i]+rX*eps, Wp[1,i]+rX*eps))\n",
        "plt.show()"
      ],
      "execution_count": null,
      "outputs": [
        {
          "output_type": "display_data",
          "data": {
            "image/png": "[encoded data removed]",
            "text/plain": [
              "<Figure size 864x504 with 1 Axes>"
            ]
          },
          "metadata": {
            "tags": [],
            "needs_background": "light"
          }
        }
      ]
    }
  ]
}