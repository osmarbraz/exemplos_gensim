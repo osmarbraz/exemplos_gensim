{
  "nbformat": 4,
  "nbformat_minor": 0,
  "metadata": {
    "colab": {
      "name": "Exemplo_Gensim_en_Freebase.ipynb",
      "provenance": [],
      "collapsed_sections": [],
      "toc_visible": true,
      "machine_shape": "hm",
      "include_colab_link": true
    },
    "kernelspec": {
      "name": "python3",
      "display_name": "Python 3"
    }
  },
  "cells": [
    {
      "cell_type": "markdown",
      "metadata": {
        "id": "view-in-github",
        "colab_type": "text"
      },
      "source": [
        "<a href=\"https://colab.research.google.com/github/osmarbraz/exemplos_gensim/blob/master/Exemplo_Gensim_en_Freebase.ipynb\" target=\"_parent\"><img src=\"https://colab.research.google.com/assets/colab-badge.svg\" alt=\"Open In Colab\"/></a>"
      ]
    },
    {
      "cell_type": "markdown",
      "metadata": {
        "id": "IziPWVaeGlWk"
      },
      "source": [
        "# Exemplo King e Queen(en) usando Gensim e Freebase em inglês(en)\n",
        "\n",
        "Exemplo de embendding usando Gensim Python Library com execução através do Google Colaboratory.<br>\n",
        "É Biblioteca open-source para modelagem de tópicos não supervisionados e processamento de linguagem.\n",
        "Implementado em Python e Cython. \n",
        "Projetado para lidar com grandes volumes de texto, usando fluxo de dados e algoritmos on-line incrementais. \n",
        "Seu diferencial em relação a maioria dos outros software para aprendizado de máquina os quais visam apenas o processamento em memória.<br>\n",
        "https://radimrehurek.com/gensim/\n",
        "\n",
        "\n",
        "\n"
      ]
    },
    {
      "cell_type": "markdown",
      "metadata": {
        "id": "MXAxI8Oq2aD7"
      },
      "source": [
        "# Preparação do ambiente\n",
        "Preparação do ambiente para executar o gensim."
      ]
    },
    {
      "cell_type": "markdown",
      "metadata": {
        "id": "ICKIzS3-vjEZ"
      },
      "source": [
        "##Tratamento de logs"
      ]
    },
    {
      "cell_type": "code",
      "metadata": {
        "id": "PYm94ZEzvjfJ"
      },
      "source": [
        "#Biblioteca de logging\n",
        "import logging\n",
        "\n",
        "#Formato da mensagem\n",
        "logging.basicConfig(format='%(asctime)s : %(levelname)s : %(message)s', level=logging.INFO)"
      ],
      "execution_count": null,
      "outputs": []
    },
    {
      "cell_type": "markdown",
      "metadata": {
        "id": "PSC3rLgHBIUN"
      },
      "source": [
        "## Parâmetros\n",
        "Parâmetros da execução do teste"
      ]
    },
    {
      "cell_type": "code",
      "metadata": {
        "id": "B0ILwzTiBL3w",
        "outputId": "3af35c57-b821-4831-bf22-b63f5a711f84",
        "colab": {
          "base_uri": "https://localhost:8080/",
          "height": 34
        }
      },
      "source": [
        "#Id do arquivo no Google Drive\n",
        "idArquivo = '0B7XkCwpI5KDYeFdmcVltWkhtbmM'\n",
        "\n",
        "#Definição do nome do arquivo compactado do modelo\n",
        "arquivoModeloCompactado = 'freebase-vectors-skipgram1000-en.bin.gz'\n",
        "\n",
        "#Definição do nome do arquivo do modelo\n",
        "arquivoModelo = 'freebase-vectors-skipgram1000-en.bin.gz'\n",
        "\n",
        "logging.info('Parâmetros definidos!')"
      ],
      "execution_count": null,
      "outputs": [
        {
          "output_type": "stream",
          "text": [
            "2020-03-16 20:10:34,069 : INFO : Parâmetros definidos!\n"
          ],
          "name": "stderr"
        }
      ]
    },
    {
      "cell_type": "markdown",
      "metadata": {
        "id": "ZxFiqbpPQ-CR"
      },
      "source": [
        "##Instalação"
      ]
    },
    {
      "cell_type": "markdown",
      "metadata": {
        "id": "HdjN6H6t_L08"
      },
      "source": [
        "Instalando o gensim no Google Colaboratory.\n",
        "\n",
        "No Jupiter Notebook executar através \"Anaconda Prompt\".\n"
      ]
    },
    {
      "cell_type": "code",
      "metadata": {
        "id": "BGFVnIzQGrEH",
        "outputId": "1e41a829-a1d7-400d-b55c-41dfe77ab25c",
        "colab": {
          "base_uri": "https://localhost:8080/",
          "height": 326
        }
      },
      "source": [
        "pip install -U gensim"
      ],
      "execution_count": null,
      "outputs": [
        {
          "output_type": "stream",
          "text": [
            "Requirement already up-to-date: gensim in /usr/local/lib/python3.6/dist-packages (3.8.1)\n",
            "Requirement already satisfied, skipping upgrade: scipy>=0.18.1 in /usr/local/lib/python3.6/dist-packages (from gensim) (1.4.1)\n",
            "Requirement already satisfied, skipping upgrade: numpy>=1.11.3 in /usr/local/lib/python3.6/dist-packages (from gensim) (1.17.5)\n",
            "Requirement already satisfied, skipping upgrade: six>=1.5.0 in /usr/local/lib/python3.6/dist-packages (from gensim) (1.12.0)\n",
            "Requirement already satisfied, skipping upgrade: smart-open>=1.8.1 in /usr/local/lib/python3.6/dist-packages (from gensim) (1.9.0)\n",
            "Requirement already satisfied, skipping upgrade: boto3 in /usr/local/lib/python3.6/dist-packages (from smart-open>=1.8.1->gensim) (1.11.15)\n",
            "Requirement already satisfied, skipping upgrade: requests in /usr/local/lib/python3.6/dist-packages (from smart-open>=1.8.1->gensim) (2.21.0)\n",
            "Requirement already satisfied, skipping upgrade: boto>=2.32 in /usr/local/lib/python3.6/dist-packages (from smart-open>=1.8.1->gensim) (2.49.0)\n",
            "Requirement already satisfied, skipping upgrade: s3transfer<0.4.0,>=0.3.0 in /usr/local/lib/python3.6/dist-packages (from boto3->smart-open>=1.8.1->gensim) (0.3.3)\n",
            "Requirement already satisfied, skipping upgrade: botocore<1.15.0,>=1.14.15 in /usr/local/lib/python3.6/dist-packages (from boto3->smart-open>=1.8.1->gensim) (1.14.15)\n",
            "Requirement already satisfied, skipping upgrade: jmespath<1.0.0,>=0.7.1 in /usr/local/lib/python3.6/dist-packages (from boto3->smart-open>=1.8.1->gensim) (0.9.4)\n",
            "Requirement already satisfied, skipping upgrade: idna<2.9,>=2.5 in /usr/local/lib/python3.6/dist-packages (from requests->smart-open>=1.8.1->gensim) (2.8)\n",
            "Requirement already satisfied, skipping upgrade: chardet<3.1.0,>=3.0.2 in /usr/local/lib/python3.6/dist-packages (from requests->smart-open>=1.8.1->gensim) (3.0.4)\n",
            "Requirement already satisfied, skipping upgrade: urllib3<1.25,>=1.21.1 in /usr/local/lib/python3.6/dist-packages (from requests->smart-open>=1.8.1->gensim) (1.24.3)\n",
            "Requirement already satisfied, skipping upgrade: certifi>=2017.4.17 in /usr/local/lib/python3.6/dist-packages (from requests->smart-open>=1.8.1->gensim) (2019.11.28)\n",
            "Requirement already satisfied, skipping upgrade: docutils<0.16,>=0.10 in /usr/local/lib/python3.6/dist-packages (from botocore<1.15.0,>=1.14.15->boto3->smart-open>=1.8.1->gensim) (0.15.2)\n",
            "Requirement already satisfied, skipping upgrade: python-dateutil<3.0.0,>=2.1 in /usr/local/lib/python3.6/dist-packages (from botocore<1.15.0,>=1.14.15->boto3->smart-open>=1.8.1->gensim) (2.6.1)\n"
          ],
          "name": "stdout"
        }
      ]
    },
    {
      "cell_type": "markdown",
      "metadata": {
        "id": "VllbOXBWGOkz"
      },
      "source": [
        "Instando o PyDrive no Google Colaboratory.\n",
        "\n",
        "No Jupiter Notebook executar através \"Anaconda Prompt\".\n",
        "\n",
        "PyDrive é uma biblioteca de manipulação de arquivos para o google drive.<br>\n",
        "\n",
        "https://colab.research.google.com/notebooks/io.ipynb#scrollTo=7taylj9wpsA2"
      ]
    },
    {
      "cell_type": "code",
      "metadata": {
        "id": "fk0Ti1JwGMJw",
        "outputId": "2bf21b25-ba66-4ff5-e148-a9b32f30e75d",
        "colab": {
          "base_uri": "https://localhost:8080/",
          "height": 275
        }
      },
      "source": [
        " pip install PyDrive"
      ],
      "execution_count": null,
      "outputs": [
        {
          "output_type": "stream",
          "text": [
            "Requirement already satisfied: PyDrive in /usr/local/lib/python3.6/dist-packages (1.3.1)\n",
            "Requirement already satisfied: oauth2client>=4.0.0 in /usr/local/lib/python3.6/dist-packages (from PyDrive) (4.1.3)\n",
            "Requirement already satisfied: google-api-python-client>=1.2 in /usr/local/lib/python3.6/dist-packages (from PyDrive) (1.7.11)\n",
            "Requirement already satisfied: PyYAML>=3.0 in /usr/local/lib/python3.6/dist-packages (from PyDrive) (3.13)\n",
            "Requirement already satisfied: rsa>=3.1.4 in /usr/local/lib/python3.6/dist-packages (from oauth2client>=4.0.0->PyDrive) (4.0)\n",
            "Requirement already satisfied: httplib2>=0.9.1 in /usr/local/lib/python3.6/dist-packages (from oauth2client>=4.0.0->PyDrive) (0.11.3)\n",
            "Requirement already satisfied: pyasn1>=0.1.7 in /usr/local/lib/python3.6/dist-packages (from oauth2client>=4.0.0->PyDrive) (0.4.8)\n",
            "Requirement already satisfied: six>=1.6.1 in /usr/local/lib/python3.6/dist-packages (from oauth2client>=4.0.0->PyDrive) (1.12.0)\n",
            "Requirement already satisfied: pyasn1-modules>=0.0.5 in /usr/local/lib/python3.6/dist-packages (from oauth2client>=4.0.0->PyDrive) (0.2.8)\n",
            "Requirement already satisfied: uritemplate<4dev,>=3.0.0 in /usr/local/lib/python3.6/dist-packages (from google-api-python-client>=1.2->PyDrive) (3.0.1)\n",
            "Requirement already satisfied: google-auth>=1.4.1 in /usr/local/lib/python3.6/dist-packages (from google-api-python-client>=1.2->PyDrive) (1.7.2)\n",
            "Requirement already satisfied: google-auth-httplib2>=0.0.3 in /usr/local/lib/python3.6/dist-packages (from google-api-python-client>=1.2->PyDrive) (0.0.3)\n",
            "Requirement already satisfied: setuptools>=40.3.0 in /usr/local/lib/python3.6/dist-packages (from google-auth>=1.4.1->google-api-python-client>=1.2->PyDrive) (45.2.0)\n",
            "Requirement already satisfied: cachetools<3.2,>=2.0.0 in /usr/local/lib/python3.6/dist-packages (from google-auth>=1.4.1->google-api-python-client>=1.2->PyDrive) (3.1.1)\n"
          ],
          "name": "stdout"
        }
      ]
    },
    {
      "cell_type": "markdown",
      "metadata": {
        "id": "6QCnOoFQQ2vC"
      },
      "source": [
        "## Bibliotecas"
      ]
    },
    {
      "cell_type": "markdown",
      "metadata": {
        "id": "6DIZk3mqHXCx"
      },
      "source": [
        "Importando as bibliotecas de manipulação de dos arquivos pydrive.<br>\n",
        "https://gsuitedevs.github.io/PyDrive/docs/build/html/index.html#\n"
      ]
    },
    {
      "cell_type": "code",
      "metadata": {
        "id": "c6HjlNU2HXNl",
        "outputId": "b40d6189-455e-4657-8e79-e7bc61c9a1f2",
        "colab": {
          "base_uri": "https://localhost:8080/",
          "height": 34
        }
      },
      "source": [
        "from pydrive.auth import GoogleAuth\n",
        "from pydrive.drive import GoogleDrive\n",
        "from oauth2client.client import GoogleCredentials\n",
        "\n",
        "#Biblioteca para autenticar o usuário\n",
        "from google.colab import auth\n",
        "\n",
        "#Biblioteca para acessar o sistema de arquivos\n",
        "import os\n",
        "\n",
        "logging.info('Import realizado!')"
      ],
      "execution_count": null,
      "outputs": [
        {
          "output_type": "stream",
          "text": [
            "2020-03-16 20:10:39,767 : INFO : Import realizado!\n"
          ],
          "name": "stderr"
        }
      ]
    },
    {
      "cell_type": "markdown",
      "metadata": {
        "id": "W3cS4Hxf3KO9"
      },
      "source": [
        "## Autenticação do usuário"
      ]
    },
    {
      "cell_type": "markdown",
      "metadata": {
        "id": "4NSLp_RoCVaY"
      },
      "source": [
        "O usuário precisar conceder  permissão para o **Google Cloud SDK** acessar o seu Google Colaboratory.\n",
        "\n",
        "Copie o código de autorização da URL apresentada na janela aberta e copie e cole na caixa do código de autorização."
      ]
    },
    {
      "cell_type": "code",
      "metadata": {
        "id": "07hYBgqUCZ22"
      },
      "source": [
        "auth.authenticate_user()\n",
        "gauth = GoogleAuth()\n",
        "gauth.credentials = GoogleCredentials.get_application_default()\n",
        "drive = GoogleDrive(gauth)"
      ],
      "execution_count": null,
      "outputs": []
    },
    {
      "cell_type": "markdown",
      "metadata": {
        "id": "6YvLDlUF3YBS"
      },
      "source": [
        "## Download\n",
        "Para usar o Gensim, você pode criar o seu vetor de palavras e treiná-lo ou utilizar um dataset previamente treinado.\n",
        "Neste apresentação utilizamos o dataset fornecido  em https://github.com/3Top/word2vec-api.<br>\n",
        "São dados do Google News com:<br>\n",
        "*   300 dimensões\n",
        "*   3M vocabulário\n"
      ]
    },
    {
      "cell_type": "markdown",
      "metadata": {
        "id": "l9bh_DHuAeEA"
      },
      "source": [
        "Link do arquivo no google drive:\n",
        "https://drive.google.com/open?id=0B7XkCwpI5KDYNlNUTTlSS21pQmM<br>\n",
        "\n",
        "O arquivo do download será colocado na pasta \"**/content**\" do Google Colaboratory.<br> Opcionalmente pode ser feito o download para uma pasta no Google Drive. Neste casou é necessário montar uma pasta no Google Drive no Google Colaboratory para receber o arquivo.<br>\n",
        "\n",
        "Este arquivo do modelo não precisa ser descompactado."
      ]
    },
    {
      "cell_type": "code",
      "metadata": {
        "id": "xAjQyg2DeBZK",
        "outputId": "2560b460-cfcc-4cd3-e76f-647ffd67ec9e",
        "colab": {
          "base_uri": "https://localhost:8080/",
          "height": 598
        }
      },
      "source": [
        "#Verifica se o arquivo do modelo existe\n",
        "if not os.path.exists(arquivoModeloCompactado):  \n",
        "    #Realiza o download do arquivo\n",
        "    downloaded = drive.CreateFile({'id':idArquivo})\n",
        "\n",
        "    #Salva o arquivo no diretório 'content' do colab\n",
        "    downloaded.GetContentFile(arquivoModeloCompactado)\n",
        "\n",
        "    logging.info('Arquivo {0} baixado'.format(arquivoModeloCompactado))\n",
        "else:\n",
        "    logging.info('Arquivo {0} já existe'.format(arquivoModeloCompactado))"
      ],
      "execution_count": null,
      "outputs": [
        {
          "output_type": "stream",
          "text": [
            "2020-03-16 20:11:09,835 : WARNING : file_cache is unavailable when using oauth2client >= 4.0.0 or google-auth\n",
            "Traceback (most recent call last):\n",
            "  File \"/usr/local/lib/python3.6/dist-packages/googleapiclient/discovery_cache/__init__.py\", line 36, in autodetect\n",
            "    from google.appengine.api import memcache\n",
            "ModuleNotFoundError: No module named 'google.appengine'\n",
            "\n",
            "During handling of the above exception, another exception occurred:\n",
            "\n",
            "Traceback (most recent call last):\n",
            "  File \"/usr/local/lib/python3.6/dist-packages/googleapiclient/discovery_cache/file_cache.py\", line 33, in <module>\n",
            "    from oauth2client.contrib.locked_file import LockedFile\n",
            "ModuleNotFoundError: No module named 'oauth2client.contrib.locked_file'\n",
            "\n",
            "During handling of the above exception, another exception occurred:\n",
            "\n",
            "Traceback (most recent call last):\n",
            "  File \"/usr/local/lib/python3.6/dist-packages/googleapiclient/discovery_cache/file_cache.py\", line 37, in <module>\n",
            "    from oauth2client.locked_file import LockedFile\n",
            "ModuleNotFoundError: No module named 'oauth2client.locked_file'\n",
            "\n",
            "During handling of the above exception, another exception occurred:\n",
            "\n",
            "Traceback (most recent call last):\n",
            "  File \"/usr/local/lib/python3.6/dist-packages/googleapiclient/discovery_cache/__init__.py\", line 41, in autodetect\n",
            "    from . import file_cache\n",
            "  File \"/usr/local/lib/python3.6/dist-packages/googleapiclient/discovery_cache/file_cache.py\", line 41, in <module>\n",
            "    'file_cache is unavailable when using oauth2client >= 4.0.0 or google-auth')\n",
            "ImportError: file_cache is unavailable when using oauth2client >= 4.0.0 or google-auth\n",
            "2020-03-16 20:11:09,840 : INFO : URL being requested: GET https://www.googleapis.com/discovery/v1/apis/drive/v2/rest\n",
            "2020-03-16 20:11:09,843 : INFO : Attempting refresh to obtain initial access_token\n",
            "2020-03-16 20:11:09,844 : INFO : Refreshing access_token\n",
            "2020-03-16 20:11:09,982 : INFO : URL being requested: GET https://www.googleapis.com/drive/v2/files/0B7XkCwpI5KDYeFdmcVltWkhtbmM?alt=json\n",
            "2020-03-16 20:12:14,530 : INFO : Arquivo freebase-vectors-skipgram1000-en.bin.gz baixado\n"
          ],
          "name": "stderr"
        }
      ]
    },
    {
      "cell_type": "markdown",
      "metadata": {
        "id": "04YZoMubb8BA"
      },
      "source": [
        "Mostra o diretório corrente e seus arquivos."
      ]
    },
    {
      "cell_type": "code",
      "metadata": {
        "id": "NKX9Egn0b8jw",
        "outputId": "ac22eb3e-9e04-4327-9266-5e3ef0673c41",
        "colab": {
          "base_uri": "https://localhost:8080/",
          "height": 153
        }
      },
      "source": [
        "!pwd\n",
        "!ls -la"
      ],
      "execution_count": null,
      "outputs": [
        {
          "output_type": "stream",
          "text": [
            "/content\n",
            "total 2473456\n",
            "drwxr-xr-x 1 root root       4096 Mar 16 20:11 .\n",
            "drwxr-xr-x 1 root root       4096 Mar 16 20:07 ..\n",
            "-rw-r--r-- 1 root root       2683 Mar 16 20:11 adc.json\n",
            "drwxr-xr-x 1 root root       4096 Mar 16 20:11 .config\n",
            "-rw-r--r-- 1 root root 2532785074 Mar 16 20:12 freebase-vectors-skipgram1000-en.bin.gz\n",
            "drwxr-xr-x 1 root root       4096 Mar  3 18:11 sample_data\n"
          ],
          "name": "stdout"
        }
      ]
    },
    {
      "cell_type": "markdown",
      "metadata": {
        "id": "pKsUkX9c3gLj"
      },
      "source": [
        "# Prepara o modelo\n",
        "Carrega as bibliotecas e modelo pré treinado para executar os exemplos."
      ]
    },
    {
      "cell_type": "markdown",
      "metadata": {
        "id": "gbz-JcsZSARV"
      },
      "source": [
        "##Importando as bibliotecas do Gensim\n",
        "Importa as biblitecas do Gensim para carregar o modelo pré treinado."
      ]
    },
    {
      "cell_type": "code",
      "metadata": {
        "id": "oN7EnHE8OzLj",
        "outputId": "522a9045-48cf-4bbe-c409-aa455ebd17c3",
        "colab": {
          "base_uri": "https://localhost:8080/",
          "height": 34
        }
      },
      "source": [
        "from IPython.display import display, HTML\n",
        "from IPython.display import Image\n",
        "from jinja2 import Template\n",
        "\n",
        "import warnings\n",
        "warnings.filterwarnings('ignore')\n",
        "\n",
        "import numpy as np  \n",
        "import gensim\n",
        "\n",
        "logging.info('Import realizado!')"
      ],
      "execution_count": null,
      "outputs": [
        {
          "output_type": "stream",
          "text": [
            "2020-03-16 20:12:28,869 : INFO : Import realizado!\n"
          ],
          "name": "stderr"
        }
      ]
    },
    {
      "cell_type": "markdown",
      "metadata": {
        "id": "FdRH342u3ueb"
      },
      "source": [
        "##Carregando o modelo"
      ]
    },
    {
      "cell_type": "markdown",
      "metadata": {
        "id": "Ysl3AA3sPPJK"
      },
      "source": [
        "Carregando o modelo do arquivo compactado."
      ]
    },
    {
      "cell_type": "code",
      "metadata": {
        "id": "k_OBA_XSPRJw",
        "outputId": "18395f8c-00c9-466f-a354-37917c852c8a",
        "colab": {
          "base_uri": "https://localhost:8080/",
          "height": 68
        }
      },
      "source": [
        "model = gensim.models.KeyedVectors.load_word2vec_format(arquivoModeloCompactado, binary=True)\n",
        "logging.info('Modelo carregado!')"
      ],
      "execution_count": null,
      "outputs": [
        {
          "output_type": "stream",
          "text": [
            "2020-03-16 20:12:28,874 : INFO : loading projection weights from freebase-vectors-skipgram1000-en.bin.gz\n",
            "2020-03-16 20:14:14,403 : INFO : loaded (1422903, 1000) matrix from freebase-vectors-skipgram1000-en.bin.gz\n",
            "2020-03-16 20:14:14,404 : INFO : Modelo carregado!\n"
          ],
          "name": "stderr"
        }
      ]
    },
    {
      "cell_type": "markdown",
      "metadata": {
        "id": "7SpWla9ZPcSs"
      },
      "source": [
        "Mostra alguns dados do modelo carregado."
      ]
    },
    {
      "cell_type": "code",
      "metadata": {
        "id": "7fvMeXqkPB4Z",
        "outputId": "d73ad6a8-82da-4f6d-ed32-1869735fdbfd",
        "colab": {
          "base_uri": "https://localhost:8080/",
          "height": 51
        }
      },
      "source": [
        "print(model)\n",
        "print('Word2Vec(vocab='+str(len(model.wv.vocab))+', size='+ str(model.wv.vectors.shape)+')')"
      ],
      "execution_count": null,
      "outputs": [
        {
          "output_type": "stream",
          "text": [
            "<gensim.models.keyedvectors.Word2VecKeyedVectors object at 0x7f792798f400>\n",
            "Word2Vec(vocab=1422903, size=(1422903, 1000))\n"
          ],
          "name": "stdout"
        }
      ]
    },
    {
      "cell_type": "markdown",
      "metadata": {
        "id": "usJ0RE6Frol9"
      },
      "source": [
        "Exibindo os dados de uma palavra.\n",
        "\n",
        "Necessário especificar '/en/' antes da palavra."
      ]
    },
    {
      "cell_type": "code",
      "metadata": {
        "id": "MIzQqdXCmqKV",
        "outputId": "4adf76f1-bd5e-4a51-ba6f-8eaa952eb2c3",
        "colab": {
          "base_uri": "https://localhost:8080/",
          "height": 204
        }
      },
      "source": [
        "model.most_similar('/en/king')"
      ],
      "execution_count": null,
      "outputs": [
        {
          "output_type": "stream",
          "text": [
            "2020-03-16 20:14:14,419 : INFO : precomputing L2-norms of word weight vectors\n"
          ],
          "name": "stderr"
        },
        {
          "output_type": "execute_result",
          "data": {
            "text/plain": [
              "[('/en/rubberband_man', 0.5420562624931335),\n",
              " ('/en/t_i_vs_t_i_p', 0.5418274402618408),\n",
              " ('/en/what_you_know', 0.5327495336532593),\n",
              " ('/en/the_adventures_of_b_o_b', 0.5324323177337646),\n",
              " ('/en/young_jeezy', 0.5242753028869629),\n",
              " ('/en/the_big_bang', 0.5147055387496948),\n",
              " ('/en/front_back', 0.5142571926116943),\n",
              " ('/en/the_inspiration_thug_motivation_102', 0.5115785598754883),\n",
              " ('/en/my_ghetto_report_card', 0.5100880861282349),\n",
              " ('/en/young_dro', 0.506653368473053)]"
            ]
          },
          "metadata": {
            "tags": []
          },
          "execution_count": 14
        }
      ]
    },
    {
      "cell_type": "markdown",
      "metadata": {
        "id": "s63NMHN-3-AK"
      },
      "source": [
        "##Função de apresentação dos dados\n",
        "Função para melhorar a apresentação dos dados dos exemplos."
      ]
    },
    {
      "cell_type": "code",
      "metadata": {
        "id": "5iVDsYpYQiuW",
        "outputId": "d6027448-c347-4194-f68b-0be38b9c20e0",
        "colab": {
          "base_uri": "https://localhost:8080/",
          "height": 34
        }
      },
      "source": [
        "table_list_template = \"\"\" \n",
        "<table> \n",
        "        <tr>  \n",
        "           <th>Palavra</th>   \n",
        "           <th>Similaridade</th>   \n",
        "        </tr>  \n",
        "        {% for item in items%}  \n",
        "        <TR>     \n",
        "           <TD class=\"c1\">{{item[0]}}</TD>     \n",
        "           <TD class=\"c2\">{{item[1]}}</TD>   \n",
        "        </TR>   \n",
        "        {% endfor %}\n",
        "</table> \n",
        "\"\"\"\n",
        "def most_similar(positive, negative):\n",
        "    nn = model.most_similar(positive=positive, negative=negative)\n",
        "    tmpl = Template(table_list_template)\n",
        "    output_html = tmpl.render(items=nn)\n",
        "    return HTML(output_html)\n",
        "\n",
        "logging.info('Função criada!')"
      ],
      "execution_count": null,
      "outputs": [
        {
          "output_type": "stream",
          "text": [
            "2020-03-16 20:14:23,603 : INFO : Função criada!\n"
          ],
          "name": "stderr"
        }
      ]
    },
    {
      "cell_type": "markdown",
      "metadata": {
        "id": "3ik0m91YSiwn"
      },
      "source": [
        "# Exemplos"
      ]
    },
    {
      "cell_type": "markdown",
      "metadata": {
        "id": "Pv3x2kEhXKOu"
      },
      "source": [
        "**DICA**:<br>\n",
        "Para palavras com sinais léxicos, utilizar o caractere \"**u**\" antes da mesma para codifica-la como utf-8.\n"
      ]
    },
    {
      "cell_type": "markdown",
      "metadata": {
        "id": "MOL1elRKIuv7"
      },
      "source": [
        "## Comparando palavras diferentes"
      ]
    },
    {
      "cell_type": "markdown",
      "metadata": {
        "id": "BjXmJYYTXaoa"
      },
      "source": [
        "King + Woman – Man = ?"
      ]
    },
    {
      "cell_type": "code",
      "metadata": {
        "id": "gOiNNbclQyK9",
        "outputId": "e08d6e88-0572-475c-8164-5c6236d77c5b",
        "colab": {
          "base_uri": "https://localhost:8080/",
          "height": 250
        }
      },
      "source": [
        "most_similar(positive=['/en/king','/en/woman'], negative=['/en/man'])\n"
      ],
      "execution_count": null,
      "outputs": [
        {
          "output_type": "execute_result",
          "data": {
            "text/html": [
              " \n",
              "<table> \n",
              "        <tr>  \n",
              "           <th>Palavra</th>   \n",
              "           <th>Similaridade</th>   \n",
              "        </tr>  \n",
              "          \n",
              "        <TR>     \n",
              "           <TD class=\"c1\">/en/t_i_vs_t_i_p</TD>     \n",
              "           <TD class=\"c2\">0.4389854669570923</TD>   \n",
              "        </TR>   \n",
              "          \n",
              "        <TR>     \n",
              "           <TD class=\"c1\">/en/shoulder_lean</TD>     \n",
              "           <TD class=\"c2\">0.4161432087421417</TD>   \n",
              "        </TR>   \n",
              "          \n",
              "        <TR>     \n",
              "           <TD class=\"c1\">/en/what_you_know</TD>     \n",
              "           <TD class=\"c2\">0.4073765277862549</TD>   \n",
              "        </TR>   \n",
              "          \n",
              "        <TR>     \n",
              "           <TD class=\"c1\">/en/the_adventures_of_b_o_b</TD>     \n",
              "           <TD class=\"c2\">0.4072108864784241</TD>   \n",
              "        </TR>   \n",
              "          \n",
              "        <TR>     \n",
              "           <TD class=\"c1\">/en/the_inspiration_thug_motivation_102</TD>     \n",
              "           <TD class=\"c2\">0.40640342235565186</TD>   \n",
              "        </TR>   \n",
              "          \n",
              "        <TR>     \n",
              "           <TD class=\"c1\">/en/rubberband_man</TD>     \n",
              "           <TD class=\"c2\">0.4014279246330261</TD>   \n",
              "        </TR>   \n",
              "          \n",
              "        <TR>     \n",
              "           <TD class=\"c1\">/en/just_like_you</TD>     \n",
              "           <TD class=\"c2\">0.4010814428329468</TD>   \n",
              "        </TR>   \n",
              "          \n",
              "        <TR>     \n",
              "           <TD class=\"c1\">/en/the_red_light_district</TD>     \n",
              "           <TD class=\"c2\">0.3974035382270813</TD>   \n",
              "        </TR>   \n",
              "          \n",
              "        <TR>     \n",
              "           <TD class=\"c1\">/en/the_sound_of_revenge</TD>     \n",
              "           <TD class=\"c2\">0.39560553431510925</TD>   \n",
              "        </TR>   \n",
              "          \n",
              "        <TR>     \n",
              "           <TD class=\"c1\">/en/confessions</TD>     \n",
              "           <TD class=\"c2\">0.3888380527496338</TD>   \n",
              "        </TR>   \n",
              "        \n",
              "</table> "
            ],
            "text/plain": [
              "<IPython.core.display.HTML object>"
            ]
          },
          "metadata": {
            "tags": []
          },
          "execution_count": 18
        }
      ]
    },
    {
      "cell_type": "markdown",
      "metadata": {
        "id": "g9d9Cw08s3Nt"
      },
      "source": [
        "Distância entre woman e man"
      ]
    },
    {
      "cell_type": "code",
      "metadata": {
        "id": "AdqGdkR9srqs",
        "outputId": "df2d196f-6903-4d44-935c-03fe776dfce4",
        "colab": {
          "base_uri": "https://localhost:8080/",
          "height": 34
        }
      },
      "source": [
        "model.distance('/en/woman', '/en/man')"
      ],
      "execution_count": null,
      "outputs": [
        {
          "output_type": "execute_result",
          "data": {
            "text/plain": [
              "0.42907577753067017"
            ]
          },
          "metadata": {
            "tags": []
          },
          "execution_count": 19
        }
      ]
    }
  ]
}